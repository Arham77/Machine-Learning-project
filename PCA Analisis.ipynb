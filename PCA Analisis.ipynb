{
 "cells": [
  {
   "cell_type": "code",
   "execution_count": 5,
   "metadata": {
    "scrolled": true
   },
   "outputs": [
    {
     "name": "stdout",
     "output_type": "stream",
     "text": [
      "Requirement already satisfied: sklearn in c:\\users\\kominfo\\anaconda3\\lib\\site-packages (0.0)\n",
      "Requirement already satisfied: scikit-learn in c:\\users\\kominfo\\anaconda3\\lib\\site-packages (from sklearn) (0.23.2)\n",
      "Requirement already satisfied: threadpoolctl>=2.0.0 in c:\\users\\kominfo\\anaconda3\\lib\\site-packages (from scikit-learn->sklearn) (2.1.0)\n",
      "Requirement already satisfied: numpy>=1.13.3 in c:\\users\\kominfo\\anaconda3\\lib\\site-packages (from scikit-learn->sklearn) (1.19.2)\n",
      "Requirement already satisfied: scipy>=0.19.1 in c:\\users\\kominfo\\anaconda3\\lib\\site-packages (from scikit-learn->sklearn) (1.5.2)\n",
      "Requirement already satisfied: joblib>=0.11 in c:\\users\\kominfo\\anaconda3\\lib\\site-packages (from scikit-learn->sklearn) (0.17.0)\n"
     ]
    },
    {
     "name": "stderr",
     "output_type": "stream",
     "text": [
      "<frozen importlib._bootstrap>:219: RuntimeWarning: numpy.ufunc size changed, may indicate binary incompatibility. Expected 192 from C header, got 216 from PyObject\n",
      "<frozen importlib._bootstrap>:219: RuntimeWarning: numpy.ufunc size changed, may indicate binary incompatibility. Expected 192 from C header, got 216 from PyObject\n"
     ]
    }
   ],
   "source": [
    "!pip install sklearn\n",
    "#import library\n",
    "from sklearn.decomposition import PCA\n",
    "#load data\n",
    "from sklearn.datasets import make_blobs"
   ]
  },
  {
   "cell_type": "code",
   "execution_count": 9,
   "metadata": {},
   "outputs": [],
   "source": [
    "#define sample and random state\n",
    "n_sample = 20\n",
    "random_State = 20"
   ]
  },
  {
   "cell_type": "code",
   "execution_count": 10,
   "metadata": {},
   "outputs": [],
   "source": [
    "#ganerate dataset to 10 feature\n",
    "X,y = make_blobs(n_samples=n_sample,n_features=10,random_state= None)"
   ]
  },
  {
   "cell_type": "code",
   "execution_count": 12,
   "metadata": {},
   "outputs": [
    {
     "data": {
      "text/plain": [
       "(20, 10)"
      ]
     },
     "execution_count": 12,
     "metadata": {},
     "output_type": "execute_result"
    }
   ],
   "source": [
    "X.shape"
   ]
  },
  {
   "cell_type": "code",
   "execution_count": 13,
   "metadata": {},
   "outputs": [],
   "source": [
    "#mengubah dari 10 feature menjadi 3 atau sesuai dengan keinginan\n",
    "pca = PCA(n_components = 3)"
   ]
  },
  {
   "cell_type": "code",
   "execution_count": 16,
   "metadata": {},
   "outputs": [
    {
     "name": "stdout",
     "output_type": "stream",
     "text": [
      "[0.70031549 0.27550214 0.00910469]\n"
     ]
    }
   ],
   "source": [
    "pca.fit(X)\n",
    "print(pca.explained_variance_ratio_)"
   ]
  },
  {
   "cell_type": "code",
   "execution_count": 17,
   "metadata": {},
   "outputs": [
    {
     "name": "stdout",
     "output_type": "stream",
     "text": [
      "[ 0.34806789  0.40519129 -0.44866772 -0.01512339  0.16821314  0.61922646\n",
      " -0.21807139  0.06256129 -0.21176719  0.07131526]\n"
     ]
    }
   ],
   "source": [
    "#first PCA Component\n",
    "first_pca = pca.components_[0]\n",
    "print (first_pca)"
   ]
  },
  {
   "cell_type": "code",
   "execution_count": 24,
   "metadata": {},
   "outputs": [
    {
     "data": {
      "text/plain": [
       "array([[ -7.84420345,   8.22236921,   3.14347663],\n",
       "       [-10.39259529,  12.25364314,  -0.09148245],\n",
       "       [ -7.07831606, -10.25898095,   0.29174207],\n",
       "       [ -7.56119456,  10.06152377,   2.04548015],\n",
       "       [ -9.88596341,   9.17469269,  -2.32993164],\n",
       "       [ -7.98116445,  -9.87815727,   2.12512471],\n",
       "       [ -8.14655368,  -8.30245328,   1.78753222],\n",
       "       [ -9.56937627,   7.0100951 ,  -1.29956683],\n",
       "       [ -8.46635569,  -9.40345464,  -2.0285775 ],\n",
       "       [ 20.18754949,   0.68724535,  -1.1447621 ],\n",
       "       [ 19.06125321,   0.48723316,   0.07271231],\n",
       "       [ -7.94628412,  10.05541167,  -1.15250201],\n",
       "       [ 21.82725309,  -0.67841642,  -0.67722028],\n",
       "       [ 19.32264337,   0.03263014,   2.43928956],\n",
       "       [ -7.68644502, -10.49698274,  -0.40976347],\n",
       "       [ -8.8893451 ,  -9.352265  ,  -1.13947741],\n",
       "       [ -8.7520596 , -11.20773935,  -0.43596705],\n",
       "       [ 18.59970408,   0.50619245,  -0.39149706],\n",
       "       [ 20.36462943,   0.95469017,  -0.57077696],\n",
       "       [ -9.16317598,  10.1327228 ,  -0.23383289]])"
      ]
     },
     "execution_count": 24,
     "metadata": {},
     "output_type": "execute_result"
    }
   ],
   "source": [
    "pca_reduced = pca.transform(X)\n",
    "pca_reduced"
   ]
  },
  {
   "cell_type": "code",
   "execution_count": 25,
   "metadata": {},
   "outputs": [
    {
     "data": {
      "text/plain": [
       "(20, 3)"
      ]
     },
     "execution_count": 25,
     "metadata": {},
     "output_type": "execute_result"
    }
   ],
   "source": [
    "pca_reduced.shape"
   ]
  },
  {
   "cell_type": "code",
   "execution_count": null,
   "metadata": {},
   "outputs": [],
   "source": []
  }
 ],
 "metadata": {
  "kernelspec": {
   "display_name": "Python 3",
   "language": "python",
   "name": "python3"
  },
  "language_info": {
   "codemirror_mode": {
    "name": "ipython",
    "version": 3
   },
   "file_extension": ".py",
   "mimetype": "text/x-python",
   "name": "python",
   "nbconvert_exporter": "python",
   "pygments_lexer": "ipython3",
   "version": "3.8.5"
  }
 },
 "nbformat": 4,
 "nbformat_minor": 4
}
