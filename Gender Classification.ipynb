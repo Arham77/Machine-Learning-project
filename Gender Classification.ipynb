{
 "cells": [
  {
   "cell_type": "code",
   "execution_count": 3,
   "metadata": {},
   "outputs": [
    {
     "name": "stdout",
     "output_type": "stream",
     "text": [
      "Requirement already satisfied: opencv-python in c:\\users\\kominfo\\anaconda3\\lib\\site-packages (4.5.5.62)\n",
      "Requirement already satisfied: numpy>=1.14.5; python_version >= \"3.7\" in c:\\users\\kominfo\\anaconda3\\lib\\site-packages (from opencv-python) (1.19.5)\n",
      "Note: you may need to restart the kernel to use updated packages.\n"
     ]
    }
   ],
   "source": [
    "pip install opencv-python"
   ]
  },
  {
   "cell_type": "code",
   "execution_count": 1,
   "metadata": {},
   "outputs": [
    {
     "name": "stdout",
     "output_type": "stream",
     "text": [
      "{'men': 0, 'women': 1}\n",
      "['men', 'women']\n",
      "[0, 1]\n"
     ]
    }
   ],
   "source": [
    "import cv2\n",
    "import os\n",
    "\n",
    "data_path='D:\\ArhamDQ-lab\\WEB PROGRAMING\\LOMBA\\Satria Data/datasets'\n",
    "categories=os.listdir(data_path)\n",
    "labels=[i for i in range(len(categories))]\n",
    "\n",
    "label_dict=dict(zip(categories,labels))\n",
    "\n",
    "print(label_dict)\n",
    "print(categories)\n",
    "print(labels)\n",
    "\n"
   ]
  },
  {
   "cell_type": "code",
   "execution_count": 2,
   "metadata": {},
   "outputs": [],
   "source": [
    "img_size=32\n",
    "data=[]\n",
    "target=[]\n",
    "\n",
    "facedata = cv2.CascadeClassifier(cv2.data.haarcascades + 'haarcascade_frontalface_default.xml')\n",
    "cascade = cv2.CascadeClassifier(cv2.data.haarcascades + 'haarcascade_eye.xml')\n",
    "\n",
    "for category in categories:\n",
    "    folder_path=os.path.join(data_path,category)\n",
    "    img_names=os.listdir(folder_path)\n",
    "        \n",
    "    for img_name in img_names:\n",
    "        img_path=os.path.join(folder_path,img_name)\n",
    "        img=cv2.imread(img_path)\n",
    "        faces = cascade.detectMultiScale(img)\n",
    "        try:\n",
    "            for f in faces:\n",
    "                x, y, w, h = [v for v in f]\n",
    "                sub_face = img[y:y + h, x:x + w]\n",
    "                gray=cv2.cvtColor(sub_face,cv2.COLOR_BGR2GRAY)           \n",
    "                resized=cv2.resize(gray,(img_size,img_size))\n",
    "                data.append(resized)\n",
    "                target.append(label_dict[category])\n",
    "        except Exception as e:\n",
    "            print('Exception:',e)"
   ]
  },
  {
   "cell_type": "code",
   "execution_count": 3,
   "metadata": {},
   "outputs": [],
   "source": [
    "import numpy as np\n",
    "import warnings\n",
    "warnings.filterwarnings('ignore')\n",
    "data=np.array(data)/255.0\n",
    "data=np.reshape(data,(data.shape[0],img_size,img_size,1))\n",
    "target=np.array(target)\n"
   ]
  },
  {
   "cell_type": "code",
   "execution_count": 4,
   "metadata": {},
   "outputs": [],
   "source": [
    "from numpy import asarray\n",
    "from numpy import save\n",
    "from keras.utils import np_utils\n",
    "\n",
    "new_target=np_utils.to_categorical(target)\n",
    "\n",
    "np.save('data.npy',data)\n",
    "np.save('new_target.npy',new_target)"
   ]
  },
  {
   "cell_type": "code",
   "execution_count": 5,
   "metadata": {},
   "outputs": [],
   "source": [
    "import numpy as np\n",
    "\n",
    "data=np.load('data.npy')\n",
    "target=np.load('new_target.npy')"
   ]
  },
  {
   "cell_type": "code",
   "execution_count": 6,
   "metadata": {},
   "outputs": [],
   "source": [
    "from keras.models import Sequential\n",
    "from keras.layers import Dense,Activation,Flatten,Dropout\n",
    "from keras.layers import Conv2D,MaxPooling2D\n",
    "from keras.callbacks import ModelCheckpoint\n",
    "\n",
    "\n",
    "noOfFilters=64\n",
    "sizeOfFilter1=(3,3)\n",
    "sizeOfFilter2=(3,3)\n",
    "sizeOfPool=(2,2)\n",
    "noOfNode=64\n",
    "\n",
    "\n",
    "\n",
    "model=Sequential()\n",
    "model.add((Conv2D(32, sizeOfFilter1, input_shape=data.shape[1:],activation='relu')))\n",
    "model.add((Conv2D(32, sizeOfFilter1,activation='relu')))\n",
    "model.add(MaxPooling2D(pool_size=sizeOfPool))\n",
    "\n",
    "model.add((Conv2D(64, sizeOfFilter2,activation='relu')))\n",
    "model.add((Conv2D(64, sizeOfFilter2,activation='relu')))\n",
    "model.add(MaxPooling2D(pool_size=sizeOfPool))\n",
    "model.add(Dropout(0.5))\n",
    "\n",
    "\n",
    "model.add(Flatten())\n",
    "model.add(Dense(noOfNode, activation='relu'))\n",
    "model.add(Dropout(0.5))\n",
    "model.add(Dense(2, activation='softmax'))\n",
    "\n",
    "\n",
    "model.compile(loss='categorical_crossentropy',optimizer='adam',metrics=['accuracy'])"
   ]
  },
  {
   "cell_type": "code",
   "execution_count": 7,
   "metadata": {},
   "outputs": [],
   "source": [
    "from sklearn.model_selection import train_test_split\n",
    "\n",
    "train_data,test_data,train_target,test_target=train_test_split(data,target,test_size=0.1)"
   ]
  },
  {
   "cell_type": "code",
   "execution_count": 8,
   "metadata": {},
   "outputs": [
    {
     "name": "stdout",
     "output_type": "stream",
     "text": [
      "Epoch 1/20\n",
      "432/433 [============================>.] - ETA: 0s - loss: 0.6796 - accuracy: 0.5799INFO:tensorflow:Assets written to: ./training\\model-001.model\\assets\n",
      "433/433 [==============================] - 26s 57ms/step - loss: 0.6796 - accuracy: 0.5800 - val_loss: 0.6766 - val_accuracy: 0.5739\n",
      "Epoch 2/20\n",
      "433/433 [==============================] - ETA: 0s - loss: 0.6687 - accuracy: 0.5922INFO:tensorflow:Assets written to: ./training\\model-002.model\\assets\n",
      "433/433 [==============================] - 25s 57ms/step - loss: 0.6687 - accuracy: 0.5922 - val_loss: 0.6630 - val_accuracy: 0.6005\n",
      "Epoch 3/20\n",
      "432/433 [============================>.] - ETA: 0s - loss: 0.6559 - accuracy: 0.6092INFO:tensorflow:Assets written to: ./training\\model-003.model\\assets\n",
      "433/433 [==============================] - 26s 59ms/step - loss: 0.6560 - accuracy: 0.6091 - val_loss: 0.6466 - val_accuracy: 0.6176\n",
      "Epoch 4/20\n",
      "432/433 [============================>.] - ETA: 0s - loss: 0.6501 - accuracy: 0.6126INFO:tensorflow:Assets written to: ./training\\model-004.model\\assets\n",
      "433/433 [==============================] - 25s 59ms/step - loss: 0.6501 - accuracy: 0.6126 - val_loss: 0.6398 - val_accuracy: 0.6237\n",
      "Epoch 5/20\n",
      "433/433 [==============================] - 24s 56ms/step - loss: 0.6440 - accuracy: 0.6180 - val_loss: 0.6500 - val_accuracy: 0.6179\n",
      "Epoch 6/20\n",
      "432/433 [============================>.] - ETA: 0s - loss: 0.6392 - accuracy: 0.6148INFO:tensorflow:Assets written to: ./training\\model-006.model\\assets\n",
      "433/433 [==============================] - 25s 59ms/step - loss: 0.6392 - accuracy: 0.6149 - val_loss: 0.6350 - val_accuracy: 0.6216\n",
      "Epoch 7/20\n",
      "432/433 [============================>.] - ETA: 0s - loss: 0.6344 - accuracy: 0.6210INFO:tensorflow:Assets written to: ./training\\model-007.model\\assets\n",
      "433/433 [==============================] - 26s 60ms/step - loss: 0.6345 - accuracy: 0.6210 - val_loss: 0.6303 - val_accuracy: 0.6231\n",
      "Epoch 8/20\n",
      "433/433 [==============================] - 25s 59ms/step - loss: 0.6321 - accuracy: 0.6227 - val_loss: 0.6328 - val_accuracy: 0.6159\n",
      "Epoch 9/20\n",
      "432/433 [============================>.] - ETA: 0s - loss: 0.6275 - accuracy: 0.6204INFO:tensorflow:Assets written to: ./training\\model-009.model\\assets\n",
      "433/433 [==============================] - 26s 60ms/step - loss: 0.6274 - accuracy: 0.6204 - val_loss: 0.6209 - val_accuracy: 0.6225\n",
      "Epoch 10/20\n",
      "433/433 [==============================] - 25s 58ms/step - loss: 0.6212 - accuracy: 0.6308 - val_loss: 0.6228 - val_accuracy: 0.6199\n",
      "Epoch 11/20\n",
      "433/433 [==============================] - 25s 58ms/step - loss: 0.6179 - accuracy: 0.6253 - val_loss: 0.6300 - val_accuracy: 0.6205\n",
      "Epoch 12/20\n",
      "432/433 [============================>.] - ETA: 0s - loss: 0.6147 - accuracy: 0.6374INFO:tensorflow:Assets written to: ./training\\model-012.model\\assets\n",
      "433/433 [==============================] - 27s 62ms/step - loss: 0.6148 - accuracy: 0.6373 - val_loss: 0.6186 - val_accuracy: 0.6355\n",
      "Epoch 13/20\n",
      "432/433 [============================>.] - ETA: 0s - loss: 0.6095 - accuracy: 0.6379INFO:tensorflow:Assets written to: ./training\\model-013.model\\assets\n",
      "433/433 [==============================] - 27s 62ms/step - loss: 0.6095 - accuracy: 0.6380 - val_loss: 0.6184 - val_accuracy: 0.6292\n",
      "Epoch 14/20\n",
      "432/433 [============================>.] - ETA: 0s - loss: 0.6026 - accuracy: 0.6401INFO:tensorflow:Assets written to: ./training\\model-014.model\\assets\n",
      "433/433 [==============================] - 27s 62ms/step - loss: 0.6025 - accuracy: 0.6402 - val_loss: 0.6179 - val_accuracy: 0.6248\n",
      "Epoch 15/20\n",
      "432/433 [============================>.] - ETA: 0s - loss: 0.6000 - accuracy: 0.6467INFO:tensorflow:Assets written to: ./training\\model-015.model\\assets\n",
      "433/433 [==============================] - 26s 60ms/step - loss: 0.6000 - accuracy: 0.6466 - val_loss: 0.6164 - val_accuracy: 0.6292\n",
      "Epoch 16/20\n",
      "433/433 [==============================] - 26s 59ms/step - loss: 0.5993 - accuracy: 0.6457 - val_loss: 0.6167 - val_accuracy: 0.6306\n",
      "Epoch 17/20\n",
      "433/433 [==============================] - 25s 58ms/step - loss: 0.5935 - accuracy: 0.6480 - val_loss: 0.6248 - val_accuracy: 0.6347\n",
      "Epoch 18/20\n",
      "433/433 [==============================] - 25s 59ms/step - loss: 0.5891 - accuracy: 0.6471 - val_loss: 0.6175 - val_accuracy: 0.6352\n",
      "Epoch 19/20\n",
      "433/433 [==============================] - 25s 58ms/step - loss: 0.5869 - accuracy: 0.6536 - val_loss: 0.6194 - val_accuracy: 0.6294\n",
      "Epoch 20/20\n",
      "432/433 [============================>.] - ETA: 0s - loss: 0.5866 - accuracy: 0.6542INFO:tensorflow:Assets written to: ./training\\model-020.model\\assets\n",
      "433/433 [==============================] - 26s 60ms/step - loss: 0.5866 - accuracy: 0.6542 - val_loss: 0.6089 - val_accuracy: 0.6358\n"
     ]
    }
   ],
   "source": [
    "checkpoint = ModelCheckpoint('./training/model-{epoch:03d}.model',monitor='val_loss',verbose=0,save_best_only=True,mode='auto')\n",
    "history=model.fit(train_data,train_target,epochs=20,callbacks=[checkpoint],validation_split=0.2)"
   ]
  },
  {
   "cell_type": "code",
   "execution_count": 9,
   "metadata": {},
   "outputs": [],
   "source": [
    "from keras.models import load_model\n",
    "import cv2\n",
    "import numpy as np"
   ]
  },
  {
   "cell_type": "code",
   "execution_count": 10,
   "metadata": {},
   "outputs": [],
   "source": [
    "model = load_model('./training/model-001.model')\n",
    "\n",
    "face_cascade = cv2.CascadeClassifier(cv2.data.haarcascades + 'haarcascade_frontalface_default.xml')\n",
    "\n",
    "cap=cv2.VideoCapture(0)\n",
    "\n",
    "labels_dict={0:'Male',1:'Female'}\n",
    "color_dict={0:(0,0,255),1:(0,255,0)}"
   ]
  },
  {
   "cell_type": "code",
   "execution_count": null,
   "metadata": {},
   "outputs": [],
   "source": [
    "while(cap.isOpened()):\n",
    "\n",
    "    ret,img=cap.read()\n",
    "    gray=cv2.cvtColor(img,cv2.COLOR_BGR2GRAY)\n",
    "    faces = face_cascade.detectMultiScale(gray, 1.03, 5)\n",
    "\n",
    "    for (x,y,w,h) in faces:\n",
    "    \n",
    "        face_img=gray[y:y+w,x:x+w]\n",
    "        resized=cv2.resize(face_img,(32,32))\n",
    "        normalized=resized/255.0\n",
    "        reshaped=np.reshape(normalized,(1,32,32,1))\n",
    "        result=model.predict(reshaped)\n",
    "\n",
    "        label=np.argmax(result,axis=1)[0]\n",
    "    \n",
    "        cv2.rectangle(img,(x,y),(x+w,y+h),color_dict[label],2)\n",
    "        cv2.rectangle(img,(x,y-40),(x+w,y),color_dict[label],-1)\n",
    "        cv2.putText(img, labels_dict[label], (x, y-10),cv2.FONT_HERSHEY_SIMPLEX,0.8,(255,255,255),2)\n",
    "        \n",
    "        \n",
    "    cv2.imshow('Result',img)\n",
    "    k=cv2.waitKey(1)\n",
    "    \n",
    "    if k==ord(\"q\"):\n",
    "        break\n",
    "        \n",
    "cv2.destroyAllWindows()"
   ]
  },
  {
   "cell_type": "code",
   "execution_count": null,
   "metadata": {},
   "outputs": [],
   "source": [
    "cap.release()"
   ]
  },
  {
   "cell_type": "code",
   "execution_count": 38,
   "metadata": {},
   "outputs": [],
   "source": []
  },
  {
   "cell_type": "code",
   "execution_count": null,
   "metadata": {},
   "outputs": [],
   "source": [
    "\n"
   ]
  },
  {
   "cell_type": "code",
   "execution_count": null,
   "metadata": {},
   "outputs": [],
   "source": []
  }
 ],
 "metadata": {
  "kernelspec": {
   "display_name": "Python 3",
   "language": "python",
   "name": "python3"
  },
  "language_info": {
   "codemirror_mode": {
    "name": "ipython",
    "version": 3
   },
   "file_extension": ".py",
   "mimetype": "text/x-python",
   "name": "python",
   "nbconvert_exporter": "python",
   "pygments_lexer": "ipython3",
   "version": "3.8.5"
  }
 },
 "nbformat": 4,
 "nbformat_minor": 4
}
