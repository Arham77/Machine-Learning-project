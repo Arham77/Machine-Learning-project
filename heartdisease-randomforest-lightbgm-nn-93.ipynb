{
 "cells": [
  {
   "cell_type": "markdown",
   "metadata": {
    "papermill": {
     "duration": 0.057168,
     "end_time": "2022-04-06T09:00:12.664784",
     "exception": false,
     "start_time": "2022-04-06T09:00:12.607616",
     "status": "completed"
    },
    "tags": []
   },
   "source": [
    "# Personal Key Indicators of Heart Disease"
   ]
  },
  {
   "cell_type": "markdown",
   "metadata": {
    "papermill": {
     "duration": 0.059549,
     "end_time": "2022-04-06T09:00:12.781947",
     "exception": false,
     "start_time": "2022-04-06T09:00:12.722398",
     "status": "completed"
    },
    "tags": []
   },
   "source": [
    "**I built models to predict HeartDisease and at the same time visualized and explained the data.**\n",
    "\n",
    "**With regard to model building, I used three methods, RandomForest, LightBGM and NeuralNetwork with a test set score above 93.**"
   ]
  },
  {
   "cell_type": "code",
   "execution_count": 1,
   "metadata": {
    "execution": {
     "iopub.execute_input": "2022-04-06T09:00:12.900037Z",
     "iopub.status.busy": "2022-04-06T09:00:12.898763Z",
     "iopub.status.idle": "2022-04-06T09:00:15.535275Z",
     "shell.execute_reply": "2022-04-06T09:00:15.535884Z",
     "shell.execute_reply.started": "2022-04-06T08:59:13.511027Z"
    },
    "papermill": {
     "duration": 2.696505,
     "end_time": "2022-04-06T09:00:15.536238",
     "exception": false,
     "start_time": "2022-04-06T09:00:12.839733",
     "status": "completed"
    },
    "tags": []
   },
   "outputs": [],
   "source": [
    "import numpy as np \n",
    "import pandas as pd \n",
    "import matplotlib.pyplot as plt\n",
    "import seaborn as sns\n",
    "import warnings\n",
    "warnings.filterwarnings('ignore')\n",
    "import time\n",
    "from scipy.stats import norm\n",
    "\n",
    "from sklearn.model_selection import train_test_split\n",
    "from sklearn.preprocessing import LabelEncoder\n",
    "from sklearn.preprocessing import OrdinalEncoder\n",
    "from sklearn.model_selection import GridSearchCV\n",
    "from sklearn.preprocessing import StandardScaler\n",
    "\n",
    "from sklearn.ensemble import RandomForestClassifier\n",
    "import lightgbm as lgb\n",
    "\n",
    "import os\n",
    "for dirname, _, filenames in os.walk('/kaggle/input'):\n",
    "    for filename in filenames:\n",
    "        print(os.path.join(dirname, filename))"
   ]
  },
  {
   "cell_type": "code",
   "execution_count": 4,
   "metadata": {
    "execution": {
     "iopub.execute_input": "2022-04-06T09:00:15.654057Z",
     "iopub.status.busy": "2022-04-06T09:00:15.653303Z",
     "iopub.status.idle": "2022-04-06T09:00:16.683919Z",
     "shell.execute_reply": "2022-04-06T09:00:16.682916Z",
     "shell.execute_reply.started": "2022-04-06T08:59:16.082503Z"
    },
    "papermill": {
     "duration": 1.092546,
     "end_time": "2022-04-06T09:00:16.684096",
     "exception": false,
     "start_time": "2022-04-06T09:00:15.591550",
     "status": "completed"
    },
    "tags": []
   },
   "outputs": [
    {
     "data": {
      "text/html": [
       "<div>\n",
       "<style scoped>\n",
       "    .dataframe tbody tr th:only-of-type {\n",
       "        vertical-align: middle;\n",
       "    }\n",
       "\n",
       "    .dataframe tbody tr th {\n",
       "        vertical-align: top;\n",
       "    }\n",
       "\n",
       "    .dataframe thead th {\n",
       "        text-align: right;\n",
       "    }\n",
       "</style>\n",
       "<table border=\"1\" class=\"dataframe\">\n",
       "  <thead>\n",
       "    <tr style=\"text-align: right;\">\n",
       "      <th></th>\n",
       "      <th>HeartDisease</th>\n",
       "      <th>BMI</th>\n",
       "      <th>Smoking</th>\n",
       "      <th>AlcoholDrinking</th>\n",
       "      <th>Stroke</th>\n",
       "      <th>PhysicalHealth</th>\n",
       "      <th>MentalHealth</th>\n",
       "      <th>DiffWalking</th>\n",
       "      <th>Sex</th>\n",
       "      <th>AgeCategory</th>\n",
       "      <th>Race</th>\n",
       "      <th>Diabetic</th>\n",
       "      <th>PhysicalActivity</th>\n",
       "      <th>GenHealth</th>\n",
       "      <th>SleepTime</th>\n",
       "      <th>Asthma</th>\n",
       "      <th>KidneyDisease</th>\n",
       "      <th>SkinCancer</th>\n",
       "    </tr>\n",
       "  </thead>\n",
       "  <tbody>\n",
       "    <tr>\n",
       "      <th>0</th>\n",
       "      <td>No</td>\n",
       "      <td>16.60</td>\n",
       "      <td>Yes</td>\n",
       "      <td>No</td>\n",
       "      <td>No</td>\n",
       "      <td>3.0</td>\n",
       "      <td>30.0</td>\n",
       "      <td>No</td>\n",
       "      <td>Female</td>\n",
       "      <td>55-59</td>\n",
       "      <td>White</td>\n",
       "      <td>Yes</td>\n",
       "      <td>Yes</td>\n",
       "      <td>Very good</td>\n",
       "      <td>5.0</td>\n",
       "      <td>Yes</td>\n",
       "      <td>No</td>\n",
       "      <td>Yes</td>\n",
       "    </tr>\n",
       "    <tr>\n",
       "      <th>1</th>\n",
       "      <td>No</td>\n",
       "      <td>20.34</td>\n",
       "      <td>No</td>\n",
       "      <td>No</td>\n",
       "      <td>Yes</td>\n",
       "      <td>0.0</td>\n",
       "      <td>0.0</td>\n",
       "      <td>No</td>\n",
       "      <td>Female</td>\n",
       "      <td>80 or older</td>\n",
       "      <td>White</td>\n",
       "      <td>No</td>\n",
       "      <td>Yes</td>\n",
       "      <td>Very good</td>\n",
       "      <td>7.0</td>\n",
       "      <td>No</td>\n",
       "      <td>No</td>\n",
       "      <td>No</td>\n",
       "    </tr>\n",
       "    <tr>\n",
       "      <th>2</th>\n",
       "      <td>No</td>\n",
       "      <td>26.58</td>\n",
       "      <td>Yes</td>\n",
       "      <td>No</td>\n",
       "      <td>No</td>\n",
       "      <td>20.0</td>\n",
       "      <td>30.0</td>\n",
       "      <td>No</td>\n",
       "      <td>Male</td>\n",
       "      <td>65-69</td>\n",
       "      <td>White</td>\n",
       "      <td>Yes</td>\n",
       "      <td>Yes</td>\n",
       "      <td>Fair</td>\n",
       "      <td>8.0</td>\n",
       "      <td>Yes</td>\n",
       "      <td>No</td>\n",
       "      <td>No</td>\n",
       "    </tr>\n",
       "    <tr>\n",
       "      <th>3</th>\n",
       "      <td>No</td>\n",
       "      <td>24.21</td>\n",
       "      <td>No</td>\n",
       "      <td>No</td>\n",
       "      <td>No</td>\n",
       "      <td>0.0</td>\n",
       "      <td>0.0</td>\n",
       "      <td>No</td>\n",
       "      <td>Female</td>\n",
       "      <td>75-79</td>\n",
       "      <td>White</td>\n",
       "      <td>No</td>\n",
       "      <td>No</td>\n",
       "      <td>Good</td>\n",
       "      <td>6.0</td>\n",
       "      <td>No</td>\n",
       "      <td>No</td>\n",
       "      <td>Yes</td>\n",
       "    </tr>\n",
       "    <tr>\n",
       "      <th>4</th>\n",
       "      <td>No</td>\n",
       "      <td>23.71</td>\n",
       "      <td>No</td>\n",
       "      <td>No</td>\n",
       "      <td>No</td>\n",
       "      <td>28.0</td>\n",
       "      <td>0.0</td>\n",
       "      <td>Yes</td>\n",
       "      <td>Female</td>\n",
       "      <td>40-44</td>\n",
       "      <td>White</td>\n",
       "      <td>No</td>\n",
       "      <td>Yes</td>\n",
       "      <td>Very good</td>\n",
       "      <td>8.0</td>\n",
       "      <td>No</td>\n",
       "      <td>No</td>\n",
       "      <td>No</td>\n",
       "    </tr>\n",
       "  </tbody>\n",
       "</table>\n",
       "</div>"
      ],
      "text/plain": [
       "  HeartDisease    BMI Smoking AlcoholDrinking Stroke  PhysicalHealth  \\\n",
       "0           No  16.60     Yes              No     No             3.0   \n",
       "1           No  20.34      No              No    Yes             0.0   \n",
       "2           No  26.58     Yes              No     No            20.0   \n",
       "3           No  24.21      No              No     No             0.0   \n",
       "4           No  23.71      No              No     No            28.0   \n",
       "\n",
       "   MentalHealth DiffWalking     Sex  AgeCategory   Race Diabetic  \\\n",
       "0          30.0          No  Female        55-59  White      Yes   \n",
       "1           0.0          No  Female  80 or older  White       No   \n",
       "2          30.0          No    Male        65-69  White      Yes   \n",
       "3           0.0          No  Female        75-79  White       No   \n",
       "4           0.0         Yes  Female        40-44  White       No   \n",
       "\n",
       "  PhysicalActivity  GenHealth  SleepTime Asthma KidneyDisease SkinCancer  \n",
       "0              Yes  Very good        5.0    Yes            No        Yes  \n",
       "1              Yes  Very good        7.0     No            No         No  \n",
       "2              Yes       Fair        8.0    Yes            No         No  \n",
       "3               No       Good        6.0     No            No        Yes  \n",
       "4              Yes  Very good        8.0     No            No         No  "
      ]
     },
     "execution_count": 4,
     "metadata": {},
     "output_type": "execute_result"
    }
   ],
   "source": [
    "df = pd.read_csv('D:/heart_2020_cleaned.csv')\n",
    "df.head()"
   ]
  },
  {
   "cell_type": "markdown",
   "metadata": {
    "papermill": {
     "duration": 0.055069,
     "end_time": "2022-04-06T09:00:16.795211",
     "exception": false,
     "start_time": "2022-04-06T09:00:16.740142",
     "status": "completed"
    },
    "tags": []
   },
   "source": [
    "## Explanation of column name\n",
    "\n",
    "**Stroke** (Ever told) (you had) a stroke?　\n",
    "\n",
    "**PhysicalHealth** Now thinking about your physical health, which includes physical illness and injury, for how many days during the past 30 \n",
    "\n",
    "**MentalHealth** Thinking about your mental health, for how many days during the past 30 days was your mental health not good? \n",
    "\n",
    "**DiffWalking** Do you have serious difficulty walking or climbing stairs\n",
    "\n",
    "**Diabetic** (Ever told) (you had) diabetes?　\n",
    "\n",
    "**PhysicalActivity** Adults who reported doing physical activity or exercise during the past 30 days other than their regular job\n",
    "\n",
    "**GenHealth** Would you say that in general your health is...\n",
    "\n",
    "**Asthma** (Ever told) (you had) asthma?　\n",
    "\n",
    "**Kidney Disease** Not including kidney stones, bladder infection or incontinence, were you ever told you had kidney disease?　"
   ]
  },
  {
   "cell_type": "code",
   "execution_count": 5,
   "metadata": {
    "execution": {
     "iopub.execute_input": "2022-04-06T09:00:16.913122Z",
     "iopub.status.busy": "2022-04-06T09:00:16.912413Z",
     "iopub.status.idle": "2022-04-06T09:00:16.915572Z",
     "shell.execute_reply": "2022-04-06T09:00:16.915020Z",
     "shell.execute_reply.started": "2022-04-06T08:59:17.153697Z"
    },
    "papermill": {
     "duration": 0.062552,
     "end_time": "2022-04-06T09:00:16.915723",
     "exception": false,
     "start_time": "2022-04-06T09:00:16.853171",
     "status": "completed"
    },
    "tags": []
   },
   "outputs": [],
   "source": [
    "# oe = OrdinalEncoder()\n",
    "# encoded = oe.fit_transform(df[['HeartDisease','Smoking','AlcoholDrinking','Stroke','DiffWalking','Sex','AgeCategory','Race','Diabetic','GenHealth','PhysicalActivity','Asthma','KidneyDisease','SkinCancer']].values)\n",
    "\n",
    "# df[['HeartDisease','Smoking','AlcoholDrinking','Stroke','DiffWalking','Sex','AgeCategory','Race','Diabetic','GenHealth','PhysicalActivity','Asthma','KidneyDisease','SkinCancer']] = encoded\n",
    "# df.head()"
   ]
  },
  {
   "cell_type": "code",
   "execution_count": 6,
   "metadata": {
    "execution": {
     "iopub.execute_input": "2022-04-06T09:00:17.034976Z",
     "iopub.status.busy": "2022-04-06T09:00:17.033806Z",
     "iopub.status.idle": "2022-04-06T09:00:20.279035Z",
     "shell.execute_reply": "2022-04-06T09:00:20.278343Z",
     "shell.execute_reply.started": "2022-04-06T08:59:17.160429Z"
    },
    "papermill": {
     "duration": 3.30932,
     "end_time": "2022-04-06T09:00:20.279202",
     "exception": false,
     "start_time": "2022-04-06T09:00:16.969882",
     "status": "completed"
    },
    "tags": []
   },
   "outputs": [],
   "source": [
    "df['HeartDisease'].replace({'No':0,'Yes':1}, inplace=True)\n",
    "\n",
    "df['Smoking'].replace({'No':0,'Yes':1}, inplace=True)\n",
    "\n",
    "df['AlcoholDrinking'].replace({'No':0,'Yes':1}, inplace=True)\n",
    "\n",
    "df['Stroke'].replace({'No':0,'Yes':1}, inplace=True)\n",
    "\n",
    "df['DiffWalking'].replace({'No':0,'Yes':1}, inplace=True)\n",
    "\n",
    "df['Diabetic'].replace({'No':0,'No, borderline diabetes':0,'Yes (during pregnancy)':1,'Yes':1}, inplace=True)\n",
    "\n",
    "df['PhysicalActivity'].replace({'No':0,'Yes':1}, inplace=True)\n",
    "\n",
    "df['Asthma'].replace({'No':0,'Yes':1}, inplace=True)\n",
    "\n",
    "df['KidneyDisease'].replace({'No':0,'Yes':1}, inplace=True)\n",
    "\n",
    "df['SkinCancer'].replace({'No':0,'Yes':1}, inplace=True)\n",
    "\n",
    "df['Sex'].replace({'Male':0,'Female':1}, inplace=True)\n",
    "\n",
    "df['AgeCategory'].replace({'18-24':0,'25-29':1,'30-34':2,'35-39':3,'40-44':4,'45-49':5,'50-54':6,'55-59':7,'60-64':8,'65-69':9,'70-74':10,'75-79':11,'80 or older':12}, inplace=True)\n",
    "\n",
    "df['Race'].replace({'White':0,'Hispanic':1,'Black':2,'Asian':3,'American Indian/Alaskan Native':4,'Other':5}, inplace=True)\n",
    "\n",
    "df['GenHealth'].replace({'Excellent':0,'Very good':1,'Good':2,'Fair':3,'Poor':4}, inplace=True)"
   ]
  },
  {
   "cell_type": "code",
   "execution_count": 7,
   "metadata": {
    "execution": {
     "iopub.execute_input": "2022-04-06T09:00:20.402917Z",
     "iopub.status.busy": "2022-04-06T09:00:20.401601Z",
     "iopub.status.idle": "2022-04-06T09:00:20.695059Z",
     "shell.execute_reply": "2022-04-06T09:00:20.695623Z",
     "shell.execute_reply.started": "2022-04-06T08:59:20.386264Z"
    },
    "papermill": {
     "duration": 0.361067,
     "end_time": "2022-04-06T09:00:20.695831",
     "exception": false,
     "start_time": "2022-04-06T09:00:20.334764",
     "status": "completed"
    },
    "tags": []
   },
   "outputs": [
    {
     "data": {
      "text/html": [
       "<div>\n",
       "<style scoped>\n",
       "    .dataframe tbody tr th:only-of-type {\n",
       "        vertical-align: middle;\n",
       "    }\n",
       "\n",
       "    .dataframe tbody tr th {\n",
       "        vertical-align: top;\n",
       "    }\n",
       "\n",
       "    .dataframe thead th {\n",
       "        text-align: right;\n",
       "    }\n",
       "</style>\n",
       "<table border=\"1\" class=\"dataframe\">\n",
       "  <thead>\n",
       "    <tr style=\"text-align: right;\">\n",
       "      <th></th>\n",
       "      <th>HeartDisease</th>\n",
       "      <th>BMI</th>\n",
       "      <th>Smoking</th>\n",
       "      <th>AlcoholDrinking</th>\n",
       "      <th>Stroke</th>\n",
       "      <th>PhysicalHealth</th>\n",
       "      <th>MentalHealth</th>\n",
       "      <th>DiffWalking</th>\n",
       "      <th>Sex</th>\n",
       "      <th>AgeCategory</th>\n",
       "      <th>Race</th>\n",
       "      <th>Diabetic</th>\n",
       "      <th>PhysicalActivity</th>\n",
       "      <th>GenHealth</th>\n",
       "      <th>SleepTime</th>\n",
       "      <th>Asthma</th>\n",
       "      <th>KidneyDisease</th>\n",
       "      <th>SkinCancer</th>\n",
       "    </tr>\n",
       "  </thead>\n",
       "  <tbody>\n",
       "    <tr>\n",
       "      <th>count</th>\n",
       "      <td>319795.000000</td>\n",
       "      <td>319795.000000</td>\n",
       "      <td>319795.000000</td>\n",
       "      <td>319795.000000</td>\n",
       "      <td>319795.000000</td>\n",
       "      <td>319795.00000</td>\n",
       "      <td>319795.000000</td>\n",
       "      <td>319795.000000</td>\n",
       "      <td>319795.000000</td>\n",
       "      <td>319795.000000</td>\n",
       "      <td>319795.000000</td>\n",
       "      <td>319795.000000</td>\n",
       "      <td>319795.000000</td>\n",
       "      <td>319795.000000</td>\n",
       "      <td>319795.000000</td>\n",
       "      <td>319795.000000</td>\n",
       "      <td>319795.000000</td>\n",
       "      <td>319795.000000</td>\n",
       "    </tr>\n",
       "    <tr>\n",
       "      <th>mean</th>\n",
       "      <td>0.085595</td>\n",
       "      <td>28.325399</td>\n",
       "      <td>0.412477</td>\n",
       "      <td>0.068097</td>\n",
       "      <td>0.037740</td>\n",
       "      <td>3.37171</td>\n",
       "      <td>3.898366</td>\n",
       "      <td>0.138870</td>\n",
       "      <td>0.524727</td>\n",
       "      <td>6.514536</td>\n",
       "      <td>0.540897</td>\n",
       "      <td>0.135590</td>\n",
       "      <td>0.775362</td>\n",
       "      <td>1.404972</td>\n",
       "      <td>7.097075</td>\n",
       "      <td>0.134061</td>\n",
       "      <td>0.036833</td>\n",
       "      <td>0.093244</td>\n",
       "    </tr>\n",
       "    <tr>\n",
       "      <th>std</th>\n",
       "      <td>0.279766</td>\n",
       "      <td>6.356100</td>\n",
       "      <td>0.492281</td>\n",
       "      <td>0.251912</td>\n",
       "      <td>0.190567</td>\n",
       "      <td>7.95085</td>\n",
       "      <td>7.955235</td>\n",
       "      <td>0.345812</td>\n",
       "      <td>0.499389</td>\n",
       "      <td>3.564759</td>\n",
       "      <td>1.192394</td>\n",
       "      <td>0.342353</td>\n",
       "      <td>0.417344</td>\n",
       "      <td>1.042918</td>\n",
       "      <td>1.436007</td>\n",
       "      <td>0.340718</td>\n",
       "      <td>0.188352</td>\n",
       "      <td>0.290775</td>\n",
       "    </tr>\n",
       "    <tr>\n",
       "      <th>min</th>\n",
       "      <td>0.000000</td>\n",
       "      <td>12.020000</td>\n",
       "      <td>0.000000</td>\n",
       "      <td>0.000000</td>\n",
       "      <td>0.000000</td>\n",
       "      <td>0.00000</td>\n",
       "      <td>0.000000</td>\n",
       "      <td>0.000000</td>\n",
       "      <td>0.000000</td>\n",
       "      <td>0.000000</td>\n",
       "      <td>0.000000</td>\n",
       "      <td>0.000000</td>\n",
       "      <td>0.000000</td>\n",
       "      <td>0.000000</td>\n",
       "      <td>1.000000</td>\n",
       "      <td>0.000000</td>\n",
       "      <td>0.000000</td>\n",
       "      <td>0.000000</td>\n",
       "    </tr>\n",
       "    <tr>\n",
       "      <th>25%</th>\n",
       "      <td>0.000000</td>\n",
       "      <td>24.030000</td>\n",
       "      <td>0.000000</td>\n",
       "      <td>0.000000</td>\n",
       "      <td>0.000000</td>\n",
       "      <td>0.00000</td>\n",
       "      <td>0.000000</td>\n",
       "      <td>0.000000</td>\n",
       "      <td>0.000000</td>\n",
       "      <td>4.000000</td>\n",
       "      <td>0.000000</td>\n",
       "      <td>0.000000</td>\n",
       "      <td>1.000000</td>\n",
       "      <td>1.000000</td>\n",
       "      <td>6.000000</td>\n",
       "      <td>0.000000</td>\n",
       "      <td>0.000000</td>\n",
       "      <td>0.000000</td>\n",
       "    </tr>\n",
       "    <tr>\n",
       "      <th>50%</th>\n",
       "      <td>0.000000</td>\n",
       "      <td>27.340000</td>\n",
       "      <td>0.000000</td>\n",
       "      <td>0.000000</td>\n",
       "      <td>0.000000</td>\n",
       "      <td>0.00000</td>\n",
       "      <td>0.000000</td>\n",
       "      <td>0.000000</td>\n",
       "      <td>1.000000</td>\n",
       "      <td>7.000000</td>\n",
       "      <td>0.000000</td>\n",
       "      <td>0.000000</td>\n",
       "      <td>1.000000</td>\n",
       "      <td>1.000000</td>\n",
       "      <td>7.000000</td>\n",
       "      <td>0.000000</td>\n",
       "      <td>0.000000</td>\n",
       "      <td>0.000000</td>\n",
       "    </tr>\n",
       "    <tr>\n",
       "      <th>75%</th>\n",
       "      <td>0.000000</td>\n",
       "      <td>31.420000</td>\n",
       "      <td>1.000000</td>\n",
       "      <td>0.000000</td>\n",
       "      <td>0.000000</td>\n",
       "      <td>2.00000</td>\n",
       "      <td>3.000000</td>\n",
       "      <td>0.000000</td>\n",
       "      <td>1.000000</td>\n",
       "      <td>9.000000</td>\n",
       "      <td>0.000000</td>\n",
       "      <td>0.000000</td>\n",
       "      <td>1.000000</td>\n",
       "      <td>2.000000</td>\n",
       "      <td>8.000000</td>\n",
       "      <td>0.000000</td>\n",
       "      <td>0.000000</td>\n",
       "      <td>0.000000</td>\n",
       "    </tr>\n",
       "    <tr>\n",
       "      <th>max</th>\n",
       "      <td>1.000000</td>\n",
       "      <td>94.850000</td>\n",
       "      <td>1.000000</td>\n",
       "      <td>1.000000</td>\n",
       "      <td>1.000000</td>\n",
       "      <td>30.00000</td>\n",
       "      <td>30.000000</td>\n",
       "      <td>1.000000</td>\n",
       "      <td>1.000000</td>\n",
       "      <td>12.000000</td>\n",
       "      <td>5.000000</td>\n",
       "      <td>1.000000</td>\n",
       "      <td>1.000000</td>\n",
       "      <td>4.000000</td>\n",
       "      <td>24.000000</td>\n",
       "      <td>1.000000</td>\n",
       "      <td>1.000000</td>\n",
       "      <td>1.000000</td>\n",
       "    </tr>\n",
       "  </tbody>\n",
       "</table>\n",
       "</div>"
      ],
      "text/plain": [
       "        HeartDisease            BMI        Smoking  AlcoholDrinking  \\\n",
       "count  319795.000000  319795.000000  319795.000000    319795.000000   \n",
       "mean        0.085595      28.325399       0.412477         0.068097   \n",
       "std         0.279766       6.356100       0.492281         0.251912   \n",
       "min         0.000000      12.020000       0.000000         0.000000   \n",
       "25%         0.000000      24.030000       0.000000         0.000000   \n",
       "50%         0.000000      27.340000       0.000000         0.000000   \n",
       "75%         0.000000      31.420000       1.000000         0.000000   \n",
       "max         1.000000      94.850000       1.000000         1.000000   \n",
       "\n",
       "              Stroke  PhysicalHealth   MentalHealth    DiffWalking  \\\n",
       "count  319795.000000    319795.00000  319795.000000  319795.000000   \n",
       "mean        0.037740         3.37171       3.898366       0.138870   \n",
       "std         0.190567         7.95085       7.955235       0.345812   \n",
       "min         0.000000         0.00000       0.000000       0.000000   \n",
       "25%         0.000000         0.00000       0.000000       0.000000   \n",
       "50%         0.000000         0.00000       0.000000       0.000000   \n",
       "75%         0.000000         2.00000       3.000000       0.000000   \n",
       "max         1.000000        30.00000      30.000000       1.000000   \n",
       "\n",
       "                 Sex    AgeCategory           Race       Diabetic  \\\n",
       "count  319795.000000  319795.000000  319795.000000  319795.000000   \n",
       "mean        0.524727       6.514536       0.540897       0.135590   \n",
       "std         0.499389       3.564759       1.192394       0.342353   \n",
       "min         0.000000       0.000000       0.000000       0.000000   \n",
       "25%         0.000000       4.000000       0.000000       0.000000   \n",
       "50%         1.000000       7.000000       0.000000       0.000000   \n",
       "75%         1.000000       9.000000       0.000000       0.000000   \n",
       "max         1.000000      12.000000       5.000000       1.000000   \n",
       "\n",
       "       PhysicalActivity      GenHealth      SleepTime         Asthma  \\\n",
       "count     319795.000000  319795.000000  319795.000000  319795.000000   \n",
       "mean           0.775362       1.404972       7.097075       0.134061   \n",
       "std            0.417344       1.042918       1.436007       0.340718   \n",
       "min            0.000000       0.000000       1.000000       0.000000   \n",
       "25%            1.000000       1.000000       6.000000       0.000000   \n",
       "50%            1.000000       1.000000       7.000000       0.000000   \n",
       "75%            1.000000       2.000000       8.000000       0.000000   \n",
       "max            1.000000       4.000000      24.000000       1.000000   \n",
       "\n",
       "       KidneyDisease     SkinCancer  \n",
       "count  319795.000000  319795.000000  \n",
       "mean        0.036833       0.093244  \n",
       "std         0.188352       0.290775  \n",
       "min         0.000000       0.000000  \n",
       "25%         0.000000       0.000000  \n",
       "50%         0.000000       0.000000  \n",
       "75%         0.000000       0.000000  \n",
       "max         1.000000       1.000000  "
      ]
     },
     "execution_count": 7,
     "metadata": {},
     "output_type": "execute_result"
    }
   ],
   "source": [
    "df.describe()"
   ]
  },
  {
   "cell_type": "code",
   "execution_count": 8,
   "metadata": {},
   "outputs": [
    {
     "data": {
      "text/html": [
       "<div>\n",
       "<style scoped>\n",
       "    .dataframe tbody tr th:only-of-type {\n",
       "        vertical-align: middle;\n",
       "    }\n",
       "\n",
       "    .dataframe tbody tr th {\n",
       "        vertical-align: top;\n",
       "    }\n",
       "\n",
       "    .dataframe thead th {\n",
       "        text-align: right;\n",
       "    }\n",
       "</style>\n",
       "<table border=\"1\" class=\"dataframe\">\n",
       "  <thead>\n",
       "    <tr style=\"text-align: right;\">\n",
       "      <th></th>\n",
       "      <th>HeartDisease</th>\n",
       "      <th>BMI</th>\n",
       "      <th>Smoking</th>\n",
       "      <th>AlcoholDrinking</th>\n",
       "      <th>Stroke</th>\n",
       "      <th>PhysicalHealth</th>\n",
       "      <th>MentalHealth</th>\n",
       "      <th>DiffWalking</th>\n",
       "      <th>Sex</th>\n",
       "      <th>AgeCategory</th>\n",
       "      <th>Race</th>\n",
       "      <th>Diabetic</th>\n",
       "      <th>PhysicalActivity</th>\n",
       "      <th>GenHealth</th>\n",
       "      <th>SleepTime</th>\n",
       "      <th>Asthma</th>\n",
       "      <th>KidneyDisease</th>\n",
       "      <th>SkinCancer</th>\n",
       "    </tr>\n",
       "  </thead>\n",
       "  <tbody>\n",
       "    <tr>\n",
       "      <th>0</th>\n",
       "      <td>0</td>\n",
       "      <td>16.60</td>\n",
       "      <td>1</td>\n",
       "      <td>0</td>\n",
       "      <td>0</td>\n",
       "      <td>3.0</td>\n",
       "      <td>30.0</td>\n",
       "      <td>0</td>\n",
       "      <td>1</td>\n",
       "      <td>7</td>\n",
       "      <td>0</td>\n",
       "      <td>1</td>\n",
       "      <td>1</td>\n",
       "      <td>1</td>\n",
       "      <td>5.0</td>\n",
       "      <td>1</td>\n",
       "      <td>0</td>\n",
       "      <td>1</td>\n",
       "    </tr>\n",
       "    <tr>\n",
       "      <th>1</th>\n",
       "      <td>0</td>\n",
       "      <td>20.34</td>\n",
       "      <td>0</td>\n",
       "      <td>0</td>\n",
       "      <td>1</td>\n",
       "      <td>0.0</td>\n",
       "      <td>0.0</td>\n",
       "      <td>0</td>\n",
       "      <td>1</td>\n",
       "      <td>12</td>\n",
       "      <td>0</td>\n",
       "      <td>0</td>\n",
       "      <td>1</td>\n",
       "      <td>1</td>\n",
       "      <td>7.0</td>\n",
       "      <td>0</td>\n",
       "      <td>0</td>\n",
       "      <td>0</td>\n",
       "    </tr>\n",
       "    <tr>\n",
       "      <th>2</th>\n",
       "      <td>0</td>\n",
       "      <td>26.58</td>\n",
       "      <td>1</td>\n",
       "      <td>0</td>\n",
       "      <td>0</td>\n",
       "      <td>20.0</td>\n",
       "      <td>30.0</td>\n",
       "      <td>0</td>\n",
       "      <td>0</td>\n",
       "      <td>9</td>\n",
       "      <td>0</td>\n",
       "      <td>1</td>\n",
       "      <td>1</td>\n",
       "      <td>3</td>\n",
       "      <td>8.0</td>\n",
       "      <td>1</td>\n",
       "      <td>0</td>\n",
       "      <td>0</td>\n",
       "    </tr>\n",
       "    <tr>\n",
       "      <th>3</th>\n",
       "      <td>0</td>\n",
       "      <td>24.21</td>\n",
       "      <td>0</td>\n",
       "      <td>0</td>\n",
       "      <td>0</td>\n",
       "      <td>0.0</td>\n",
       "      <td>0.0</td>\n",
       "      <td>0</td>\n",
       "      <td>1</td>\n",
       "      <td>11</td>\n",
       "      <td>0</td>\n",
       "      <td>0</td>\n",
       "      <td>0</td>\n",
       "      <td>2</td>\n",
       "      <td>6.0</td>\n",
       "      <td>0</td>\n",
       "      <td>0</td>\n",
       "      <td>1</td>\n",
       "    </tr>\n",
       "    <tr>\n",
       "      <th>4</th>\n",
       "      <td>0</td>\n",
       "      <td>23.71</td>\n",
       "      <td>0</td>\n",
       "      <td>0</td>\n",
       "      <td>0</td>\n",
       "      <td>28.0</td>\n",
       "      <td>0.0</td>\n",
       "      <td>1</td>\n",
       "      <td>1</td>\n",
       "      <td>4</td>\n",
       "      <td>0</td>\n",
       "      <td>0</td>\n",
       "      <td>1</td>\n",
       "      <td>1</td>\n",
       "      <td>8.0</td>\n",
       "      <td>0</td>\n",
       "      <td>0</td>\n",
       "      <td>0</td>\n",
       "    </tr>\n",
       "  </tbody>\n",
       "</table>\n",
       "</div>"
      ],
      "text/plain": [
       "   HeartDisease    BMI  Smoking  AlcoholDrinking  Stroke  PhysicalHealth  \\\n",
       "0             0  16.60        1                0       0             3.0   \n",
       "1             0  20.34        0                0       1             0.0   \n",
       "2             0  26.58        1                0       0            20.0   \n",
       "3             0  24.21        0                0       0             0.0   \n",
       "4             0  23.71        0                0       0            28.0   \n",
       "\n",
       "   MentalHealth  DiffWalking  Sex  AgeCategory  Race  Diabetic  \\\n",
       "0          30.0            0    1            7     0         1   \n",
       "1           0.0            0    1           12     0         0   \n",
       "2          30.0            0    0            9     0         1   \n",
       "3           0.0            0    1           11     0         0   \n",
       "4           0.0            1    1            4     0         0   \n",
       "\n",
       "   PhysicalActivity  GenHealth  SleepTime  Asthma  KidneyDisease  SkinCancer  \n",
       "0                 1          1        5.0       1              0           1  \n",
       "1                 1          1        7.0       0              0           0  \n",
       "2                 1          3        8.0       1              0           0  \n",
       "3                 0          2        6.0       0              0           1  \n",
       "4                 1          1        8.0       0              0           0  "
      ]
     },
     "execution_count": 8,
     "metadata": {},
     "output_type": "execute_result"
    }
   ],
   "source": [
    "df.head()"
   ]
  },
  {
   "cell_type": "code",
   "execution_count": 11,
   "metadata": {
    "execution": {
     "iopub.execute_input": "2022-04-06T09:00:20.823374Z",
     "iopub.status.busy": "2022-04-06T09:00:20.822560Z",
     "iopub.status.idle": "2022-04-06T09:00:21.046919Z",
     "shell.execute_reply": "2022-04-06T09:00:21.046178Z",
     "shell.execute_reply.started": "2022-04-06T08:59:20.637807Z"
    },
    "papermill": {
     "duration": 0.290041,
     "end_time": "2022-04-06T09:00:21.047168",
     "exception": false,
     "start_time": "2022-04-06T09:00:20.757127",
     "status": "completed"
    },
    "tags": []
   },
   "outputs": [],
   "source": [
    "train, test = train_test_split(df,stratify=df['HeartDisease'],test_size=.2,random_state=0)"
   ]
  },
  {
   "cell_type": "code",
   "execution_count": 12,
   "metadata": {
    "execution": {
     "iopub.execute_input": "2022-04-06T09:00:21.165747Z",
     "iopub.status.busy": "2022-04-06T09:00:21.164861Z",
     "iopub.status.idle": "2022-04-06T09:00:21.168343Z",
     "shell.execute_reply": "2022-04-06T09:00:21.169026Z",
     "shell.execute_reply.started": "2022-04-06T08:59:20.823270Z"
    },
    "papermill": {
     "duration": 0.065588,
     "end_time": "2022-04-06T09:00:21.169241",
     "exception": false,
     "start_time": "2022-04-06T09:00:21.103653",
     "status": "completed"
    },
    "tags": []
   },
   "outputs": [
    {
     "name": "stdout",
     "output_type": "stream",
     "text": [
      "train.shape : (255836, 18)\n",
      "test.shape : (63959, 18)\n"
     ]
    }
   ],
   "source": [
    "print(\"train.shape : {}\".format(train.shape))\n",
    "print(\"test.shape : {}\".format(test.shape))"
   ]
  },
  {
   "cell_type": "code",
   "execution_count": 18,
   "metadata": {
    "execution": {
     "iopub.execute_input": "2022-04-06T09:00:21.286523Z",
     "iopub.status.busy": "2022-04-06T09:00:21.285771Z",
     "iopub.status.idle": "2022-04-06T09:00:23.068853Z",
     "shell.execute_reply": "2022-04-06T09:00:23.069399Z",
     "shell.execute_reply.started": "2022-04-06T08:59:20.830979Z"
    },
    "papermill": {
     "duration": 1.842954,
     "end_time": "2022-04-06T09:00:23.069587",
     "exception": false,
     "start_time": "2022-04-06T09:00:21.226633",
     "status": "completed"
    },
    "tags": []
   },
   "outputs": [
    {
     "data": {
      "image/png": "[encoded data removed]",
      "text/plain": [
       "<Figure size 1080x720 with 2 Axes>"
      ]
     },
     "metadata": {
      "needs_background": "light"
     },
     "output_type": "display_data"
    },
    {
     "ename": "AttributeError",
     "evalue": "'AxesSubplot' object has no attribute 'savefig'",
     "output_type": "error",
     "traceback": [
      "\u001b[1;31m---------------------------------------------------------------------------\u001b[0m",
      "\u001b[1;31mAttributeError\u001b[0m                            Traceback (most recent call last)",
      "\u001b[1;32m<ipython-input-18-3dd74a59baf7>\u001b[0m in \u001b[0;36m<module>\u001b[1;34m\u001b[0m\n\u001b[0;32m      5\u001b[0m \u001b[0mplt\u001b[0m\u001b[1;33m.\u001b[0m\u001b[0mshow\u001b[0m\u001b[1;33m(\u001b[0m\u001b[1;33m)\u001b[0m\u001b[1;33m\u001b[0m\u001b[1;33m\u001b[0m\u001b[0m\n\u001b[0;32m      6\u001b[0m \u001b[0mplt\u001b[0m\u001b[1;33m.\u001b[0m\u001b[0mdraw\u001b[0m\u001b[1;33m(\u001b[0m\u001b[1;33m)\u001b[0m\u001b[1;33m\u001b[0m\u001b[1;33m\u001b[0m\u001b[0m\n\u001b[1;32m----> 7\u001b[1;33m \u001b[0mfig1\u001b[0m\u001b[1;33m.\u001b[0m\u001b[0msavefig\u001b[0m\u001b[1;33m(\u001b[0m\u001b[1;34m'tessstttyyy.png'\u001b[0m\u001b[1;33m,\u001b[0m \u001b[0mdpi\u001b[0m\u001b[1;33m=\u001b[0m\u001b[1;36m100\u001b[0m\u001b[1;33m)\u001b[0m\u001b[1;33m\u001b[0m\u001b[1;33m\u001b[0m\u001b[0m\n\u001b[0m",
      "\u001b[1;31mAttributeError\u001b[0m: 'AxesSubplot' object has no attribute 'savefig'"
     ]
    },
    {
     "data": {
      "text/plain": [
       "<Figure size 432x288 with 0 Axes>"
      ]
     },
     "metadata": {},
     "output_type": "display_data"
    }
   ],
   "source": [
    "plt.figure(figsize=(15,10))\n",
    "mask = np.triu(np.ones_like(train.corr(), dtype=bool))\n",
    "cmap = sns.diverging_palette(230, 20, as_cmap=True)\n",
    "fig1 = sns.heatmap(train.corr(), mask=mask, cmap=cmap, annot=True)\n",
    "plt.show()\n",
    "plt.draw()\n",
    "fig1.savefig('tessstttyyy.png', dpi=100)"
   ]
  },
  {
   "cell_type": "code",
   "execution_count": 9,
   "metadata": {
    "execution": {
     "iopub.execute_input": "2022-04-06T09:00:23.192477Z",
     "iopub.status.busy": "2022-04-06T09:00:23.191820Z",
     "iopub.status.idle": "2022-04-06T09:00:23.475543Z",
     "shell.execute_reply": "2022-04-06T09:00:23.474996Z",
     "shell.execute_reply.started": "2022-04-06T08:59:22.531618Z"
    },
    "papermill": {
     "duration": 0.346372,
     "end_time": "2022-04-06T09:00:23.475689",
     "exception": false,
     "start_time": "2022-04-06T09:00:23.129317",
     "status": "completed"
    },
    "tags": []
   },
   "outputs": [
    {
     "data": {
      "text/plain": [
       "HeartDisease    DiffWalking       0.203615\n",
       "                AgeCategory       0.233009\n",
       "                GenHealth         0.243702\n",
       "BMI             GenHealth         0.232758\n",
       "PhysicalHealth  MentalHealth      0.287765\n",
       "                DiffWalking       0.427359\n",
       "                GenHealth         0.482381\n",
       "MentalHealth    PhysicalHealth    0.287765\n",
       "                GenHealth         0.242048\n",
       "DiffWalking     HeartDisease      0.203615\n",
       "                PhysicalHealth    0.427359\n",
       "                AgeCategory       0.244766\n",
       "                Diabetic          0.210130\n",
       "                GenHealth         0.413318\n",
       "AgeCategory     HeartDisease      0.233009\n",
       "                DiffWalking       0.244766\n",
       "                SkinCancer        0.263627\n",
       "Diabetic        DiffWalking       0.210130\n",
       "                GenHealth         0.271059\n",
       "GenHealth       HeartDisease      0.243702\n",
       "                BMI               0.232758\n",
       "                PhysicalHealth    0.482381\n",
       "                MentalHealth      0.242048\n",
       "                DiffWalking       0.413318\n",
       "                Diabetic          0.271059\n",
       "SkinCancer      AgeCategory       0.263627\n",
       "dtype: float64"
      ]
     },
     "execution_count": 9,
     "metadata": {},
     "output_type": "execute_result"
    }
   ],
   "source": [
    "train_corr = train.corr()\n",
    "train_corr[(train_corr > 0.2) & (train_corr < 1.0)].stack()"
   ]
  },
  {
   "cell_type": "code",
   "execution_count": 10,
   "metadata": {
    "execution": {
     "iopub.execute_input": "2022-04-06T09:00:23.608521Z",
     "iopub.status.busy": "2022-04-06T09:00:23.601685Z",
     "iopub.status.idle": "2022-04-06T09:00:24.224411Z",
     "shell.execute_reply": "2022-04-06T09:00:24.223842Z",
     "shell.execute_reply.started": "2022-04-06T08:59:22.797626Z"
    },
    "papermill": {
     "duration": 0.686643,
     "end_time": "2022-04-06T09:00:24.224557",
     "exception": false,
     "start_time": "2022-04-06T09:00:23.537914",
     "status": "completed"
    },
    "tags": []
   },
   "outputs": [
    {
     "data": {
      "image/png": "[encoded data removed]",
      "text/plain": [
       "<Figure size 1152x360 with 3 Axes>"
      ]
     },
     "metadata": {
      "needs_background": "light"
     },
     "output_type": "display_data"
    }
   ],
   "source": [
    "plt.subplots(1,3,figsize=(16,5))\n",
    "plt.subplot(131)\n",
    "x = train['HeartDisease'].value_counts()\n",
    "colors = [\"slateblue\", \"yellow\"]\n",
    "plt.pie(x.values, startangle=122, labels=[0,1], wedgeprops={\"edgecolor\":\"white\", \"width\":0.4}, radius=1.1, colors=colors, autopct=\"%1.1f%%\", pctdistance=0.8)\n",
    "plt.title('Percentage of Heart Disease')\n",
    "plt.subplot(132)\n",
    "sns.countplot(train['HeartDisease'], palette=\"cool\", linewidth=2.0, edgecolor=\"navy\")\n",
    "plt.ylabel('')\n",
    "plt.title('Distribution of Heart Disease')\n",
    "plt.subplot(133)\n",
    "sns.countplot(train['SleepTime'], palette=\"cool\", linewidth=2.0, edgecolor=\"navy\")\n",
    "plt.xticks(rotation=90)\n",
    "plt.xlabel('')\n",
    "plt.ylabel('')\n",
    "plt.title('Distribution of Sleep Time')\n",
    "plt.show()"
   ]
  },
  {
   "cell_type": "code",
   "execution_count": 11,
   "metadata": {
    "execution": {
     "iopub.execute_input": "2022-04-06T09:00:24.394560Z",
     "iopub.status.busy": "2022-04-06T09:00:24.369498Z",
     "iopub.status.idle": "2022-04-06T09:00:29.763374Z",
     "shell.execute_reply": "2022-04-06T09:00:29.762211Z",
     "shell.execute_reply.started": "2022-04-06T08:59:23.360301Z"
    },
    "papermill": {
     "duration": 5.475574,
     "end_time": "2022-04-06T09:00:29.763542",
     "exception": false,
     "start_time": "2022-04-06T09:00:24.287968",
     "status": "completed"
    },
    "tags": []
   },
   "outputs": [
    {
     "data": {
      "image/png": "[encoded data removed]",
      "text/plain": [
       "<Figure size 1080x1080 with 16 Axes>"
      ]
     },
     "metadata": {
      "needs_background": "light"
     },
     "output_type": "display_data"
    }
   ],
   "source": [
    "plt.subplots(4,4,figsize=(15,15))\n",
    "plt.subplot(441)\n",
    "sns.distplot(train['BMI'], color='yellow', kde=True, kde_kws={'color':'navy'})\n",
    "plt.ylabel('')\n",
    "plt.yticks(fontsize=8)\n",
    "plt.subplot(442)\n",
    "x = train['Smoking'].value_counts()\n",
    "sns.countplot(train['Smoking'],palette=\"cool\", linewidth=2.0, edgecolor=\"navy\")\n",
    "plt.ylabel('')\n",
    "plt.yticks(fontsize=8)\n",
    "plt.subplot(443)\n",
    "sns.countplot(train['AlcoholDrinking'],palette=\"cool\", linewidth=2.0, edgecolor=\"navy\")\n",
    "plt.ylabel('')\n",
    "plt.yticks(fontsize=8)\n",
    "plt.subplot(444)\n",
    "sns.countplot(train['Stroke'], palette=\"cool\", linewidth=2.0, edgecolor=\"navy\")\n",
    "plt.ylabel('')\n",
    "plt.yticks(fontsize=8)\n",
    "plt.subplot(445)\n",
    "sns.distplot(train['PhysicalHealth'], color='yellow', kde=True, kde_kws={'color':'navy'})\n",
    "plt.ylabel('')\n",
    "plt.yticks(fontsize=8)\n",
    "plt.subplot(446)\n",
    "sns.distplot(train['MentalHealth'], color='yellow', kde=True, kde_kws={'color':'navy'})\n",
    "plt.ylabel('')\n",
    "plt.yticks(fontsize=8)\n",
    "plt.subplot(447)\n",
    "sns.countplot(train['DiffWalking'], palette=\"cool\", linewidth=2.0, edgecolor=\"navy\")\n",
    "plt.ylabel('')\n",
    "plt.yticks(fontsize=8)\n",
    "plt.subplot(448)\n",
    "sns.countplot(train['Sex'], palette=\"cool\", linewidth=2.0, edgecolor=\"navy\")\n",
    "plt.ylabel('')\n",
    "plt.yticks(fontsize=8)\n",
    "plt.subplot(4,4,9)\n",
    "sns.countplot(train['AgeCategory'], palette=\"cool\", linewidth=2.0, edgecolor=\"navy\")\n",
    "plt.ylabel('')\n",
    "plt.yticks(fontsize=8)\n",
    "plt.subplot(4,4,10)\n",
    "sns.countplot(train['Race'], palette=\"cool\", linewidth=2.0, edgecolor=\"navy\")\n",
    "plt.ylabel('')\n",
    "plt.yticks(fontsize=8)\n",
    "plt.subplot(4,4,11)\n",
    "sns.countplot(train['Diabetic'], palette=\"cool\", linewidth=2.0, edgecolor=\"navy\")\n",
    "plt.ylabel('')\n",
    "plt.yticks(fontsize=8)\n",
    "plt.subplot(4,4,12)\n",
    "sns.countplot(train['PhysicalActivity'], palette=\"cool\", linewidth=2.0, edgecolor=\"navy\")\n",
    "plt.ylabel('')\n",
    "plt.yticks(fontsize=8)\n",
    "plt.subplot(4,4,13)\n",
    "sns.countplot(train['GenHealth'], palette=\"cool\", linewidth=2.0, edgecolor=\"navy\")\n",
    "plt.ylabel('')\n",
    "plt.yticks(fontsize=8)\n",
    "plt.subplot(4,4,14)\n",
    "sns.countplot(train['Asthma'], palette=\"cool\", linewidth=2.0, edgecolor=\"navy\")\n",
    "plt.ylabel('')\n",
    "plt.yticks(fontsize=8)\n",
    "plt.subplot(4,4,15)\n",
    "sns.countplot(train['KidneyDisease'], palette=\"cool\", linewidth=2.0, edgecolor=\"navy\")\n",
    "plt.ylabel('')\n",
    "plt.yticks(fontsize=8)\n",
    "plt.subplot(4,4,16)\n",
    "sns.countplot(train['SkinCancer'], palette=\"cool\", linewidth=2.0, edgecolor=\"navy\")\n",
    "plt.ylabel('')\n",
    "plt.yticks(fontsize=8)\n",
    "plt.show()"
   ]
  },
  {
   "cell_type": "code",
   "execution_count": 12,
   "metadata": {
    "execution": {
     "iopub.execute_input": "2022-04-06T09:00:29.898886Z",
     "iopub.status.busy": "2022-04-06T09:00:29.898135Z",
     "iopub.status.idle": "2022-04-06T09:00:30.770289Z",
     "shell.execute_reply": "2022-04-06T09:00:30.769724Z",
     "shell.execute_reply.started": "2022-04-06T08:59:28.769425Z"
    },
    "papermill": {
     "duration": 0.940993,
     "end_time": "2022-04-06T09:00:30.770468",
     "exception": false,
     "start_time": "2022-04-06T09:00:29.829475",
     "status": "completed"
    },
    "tags": []
   },
   "outputs": [
    {
     "data": {
      "image/png": "[encoded data removed]",
      "text/plain": [
       "<Figure size 1008x288 with 3 Axes>"
      ]
     },
     "metadata": {
      "needs_background": "light"
     },
     "output_type": "display_data"
    }
   ],
   "source": [
    "plt.subplots(1,3,figsize=(14,4))\n",
    "\n",
    "plt.subplot(1,3,1)\n",
    "sns.countplot(train['DiffWalking'], hue=train['HeartDisease'],palette=\"PiYG\", linewidth=1.0, edgecolor=\"navy\")\n",
    "plt.title('0:No ← → 1:Yes')\n",
    "plt.ylabel('')\n",
    "plt.subplot(1,3,2)\n",
    "sns.countplot(train['AgeCategory'], hue=train['HeartDisease'],palette=\"PiYG\", linewidth=1.0, edgecolor=\"navy\")\n",
    "plt.title('0:Young ← → 12:Old')\n",
    "plt.ylabel('')\n",
    "plt.subplot(1,3,3)\n",
    "sns.countplot(train['GenHealth'], hue=train['HeartDisease'],palette=\"PiYG\", linewidth=1.0, edgecolor=\"navy\")\n",
    "plt.title('0:Excellent ← → 4:Poor')\n",
    "plt.ylabel('')\n",
    "plt.show()"
   ]
  },
  {
   "cell_type": "code",
   "execution_count": 13,
   "metadata": {
    "execution": {
     "iopub.execute_input": "2022-04-06T09:00:30.907678Z",
     "iopub.status.busy": "2022-04-06T09:00:30.906916Z",
     "iopub.status.idle": "2022-04-06T09:00:31.780603Z",
     "shell.execute_reply": "2022-04-06T09:00:31.780010Z",
     "shell.execute_reply.started": "2022-04-06T08:59:29.443141Z"
    },
    "papermill": {
     "duration": 0.943461,
     "end_time": "2022-04-06T09:00:31.780775",
     "exception": false,
     "start_time": "2022-04-06T09:00:30.837314",
     "status": "completed"
    },
    "tags": []
   },
   "outputs": [
    {
     "data": {
      "image/png": "[encoded data removed]",
      "text/plain": [
       "<Figure size 1368x360 with 4 Axes>"
      ]
     },
     "metadata": {
      "needs_background": "light"
     },
     "output_type": "display_data"
    }
   ],
   "source": [
    "plt.subplots(1,4,figsize=(19,5))\n",
    "plt.subplot(1,4,1)\n",
    "sns.boxplot(x=train['Diabetic'],y=train['BMI'],linewidth=1,palette='Set3')\n",
    "plt.ylim(ymin=10,ymax=50)\n",
    "plt.title('BMI')\n",
    "plt.ylabel('')\n",
    "plt.subplot(1,4,2)\n",
    "sns.boxplot(x=train['GenHealth'],y=train['BMI'],linewidth=1,palette='Set3')\n",
    "plt.title('BMI')\n",
    "plt.ylim(ymin=10,ymax=50)\n",
    "plt.subplot(1,4,3)\n",
    "sns.countplot(train['AgeCategory'], hue=train['DiffWalking'],palette=\"PiYG\", linewidth=1.0, edgecolor=\"navy\")\n",
    "plt.ylabel('')\n",
    "plt.title('DiffWalking')\n",
    "plt.subplot(1,4,4)\n",
    "sns.countplot(train['Diabetic'], hue=train['DiffWalking'],palette=\"PiYG\", linewidth=1.0, edgecolor=\"navy\")\n",
    "plt.ylabel('')\n",
    "plt.title('DiffWalking')\n",
    "\n",
    "plt.show()"
   ]
  },
  {
   "cell_type": "code",
   "execution_count": 14,
   "metadata": {
    "execution": {
     "iopub.execute_input": "2022-04-06T09:00:31.921586Z",
     "iopub.status.busy": "2022-04-06T09:00:31.920859Z",
     "iopub.status.idle": "2022-04-06T09:00:33.056532Z",
     "shell.execute_reply": "2022-04-06T09:00:33.057054Z",
     "shell.execute_reply.started": "2022-04-06T08:59:30.280676Z"
    },
    "papermill": {
     "duration": 1.209133,
     "end_time": "2022-04-06T09:00:33.057258",
     "exception": false,
     "start_time": "2022-04-06T09:00:31.848125",
     "status": "completed"
    },
    "tags": []
   },
   "outputs": [
    {
     "data": {
      "image/png": "[encoded data removed]",
      "text/plain": [
       "<Figure size 1584x360 with 5 Axes>"
      ]
     },
     "metadata": {
      "needs_background": "light"
     },
     "output_type": "display_data"
    }
   ],
   "source": [
    "plt.subplots(1,5,figsize=(22,5))\n",
    "plt.subplot(1,5,1)\n",
    "sns.boxplot(x=train['DiffWalking'],y=train['GenHealth'],linewidth=1,palette='Set3')\n",
    "plt.title('GenHealth')\n",
    "plt.ylabel('')\n",
    "plt.subplot(1,5,2)\n",
    "sns.boxplot(x=train['SkinCancer'],y=train['AgeCategory'],linewidth=1,palette='Set3')\n",
    "plt.ylabel('')\n",
    "plt.title('AgeCategory')\n",
    "plt.subplot(1,5,3)\n",
    "sns.countplot(train['Diabetic'], hue=train['GenHealth'],palette=\"PiYG\", linewidth=1.0, edgecolor=\"navy\")\n",
    "plt.ylabel('')\n",
    "plt.title('GenHealth')\n",
    "plt.subplot(1,5,4)\n",
    "sns.countplot(train['Diabetic'], hue=train['DiffWalking'],palette=\"PiYG\", linewidth=1.0, edgecolor=\"navy\")\n",
    "plt.ylabel('')\n",
    "plt.title('DiffWalking')\n",
    "plt.subplot(1,5,5)\n",
    "sns.countplot(train['SkinCancer'], hue=train['AgeCategory'],palette=\"PiYG\", linewidth=1.0, edgecolor=\"navy\")\n",
    "plt.ylabel('')\n",
    "plt.title('AgeCategory')\n",
    "\n",
    "plt.show()"
   ]
  },
  {
   "cell_type": "code",
   "execution_count": 15,
   "metadata": {
    "execution": {
     "iopub.execute_input": "2022-04-06T09:00:33.200040Z",
     "iopub.status.busy": "2022-04-06T09:00:33.199335Z",
     "iopub.status.idle": "2022-04-06T09:00:33.801970Z",
     "shell.execute_reply": "2022-04-06T09:00:33.802506Z",
     "shell.execute_reply.started": "2022-04-06T08:59:31.336399Z"
    },
    "papermill": {
     "duration": 0.674875,
     "end_time": "2022-04-06T09:00:33.802680",
     "exception": false,
     "start_time": "2022-04-06T09:00:33.127805",
     "status": "completed"
    },
    "tags": []
   },
   "outputs": [
    {
     "data": {
      "image/png": "[encoded data removed]",
      "text/plain": [
       "<Figure size 1152x288 with 4 Axes>"
      ]
     },
     "metadata": {
      "needs_background": "light"
     },
     "output_type": "display_data"
    }
   ],
   "source": [
    "plt.subplots(1,4,figsize=(16,4))\n",
    "\n",
    "plt.subplot(141)\n",
    "sns.boxplot(train['SleepTime'],linewidth=1,palette='Set2')\n",
    "plt.subplot(142)\n",
    "sns.boxplot(train['BMI'],linewidth=1,palette='Set2')\n",
    "plt.subplot(143)\n",
    "sns.boxplot(train['PhysicalHealth'],linewidth=1,palette='Set2')\n",
    "plt.subplot(144)\n",
    "sns.boxplot(train['MentalHealth'],linewidth=1,palette='Set2')\n",
    "plt.show()"
   ]
  },
  {
   "cell_type": "code",
   "execution_count": 16,
   "metadata": {
    "execution": {
     "iopub.execute_input": "2022-04-06T09:00:33.948984Z",
     "iopub.status.busy": "2022-04-06T09:00:33.944915Z",
     "iopub.status.idle": "2022-04-06T09:00:33.952369Z",
     "shell.execute_reply": "2022-04-06T09:00:33.951782Z",
     "shell.execute_reply.started": "2022-04-06T08:59:31.919820Z"
    },
    "papermill": {
     "duration": 0.081344,
     "end_time": "2022-04-06T09:00:33.952517",
     "exception": false,
     "start_time": "2022-04-06T09:00:33.871173",
     "status": "completed"
    },
    "tags": []
   },
   "outputs": [],
   "source": [
    "def outlier(df, columns=None):\n",
    "    if columns == None:\n",
    "        columns = df.columns\n",
    "    for col in columns:\n",
    "        mean = df[col].mean()\n",
    "        std = df[col].std()\n",
    "        \n",
    "        border = np.abs(df[col] - mean) / std\n",
    "        \n",
    "        df = df[(border < 3.0)]\n",
    "    \n",
    "    return df"
   ]
  },
  {
   "cell_type": "code",
   "execution_count": 17,
   "metadata": {
    "execution": {
     "iopub.execute_input": "2022-04-06T09:00:34.098413Z",
     "iopub.status.busy": "2022-04-06T09:00:34.097571Z",
     "iopub.status.idle": "2022-04-06T09:00:34.100773Z",
     "shell.execute_reply": "2022-04-06T09:00:34.100278Z",
     "shell.execute_reply.started": "2022-04-06T08:59:31.927133Z"
    },
    "papermill": {
     "duration": 0.0798,
     "end_time": "2022-04-06T09:00:34.100919",
     "exception": false,
     "start_time": "2022-04-06T09:00:34.021119",
     "status": "completed"
    },
    "tags": []
   },
   "outputs": [],
   "source": [
    "def outlier_2(df, columns=None):\n",
    "    if columns == None:\n",
    "        columns = df.columns\n",
    "    for col in columns:\n",
    "        mean = df[col].mean()\n",
    "        std = df[col].std()\n",
    "        \n",
    "        border = np.abs(df[col] - mean) / std\n",
    "        \n",
    "        df = df[(border < 1.9)]\n",
    "    \n",
    "    return df"
   ]
  },
  {
   "cell_type": "code",
   "execution_count": 18,
   "metadata": {
    "execution": {
     "iopub.execute_input": "2022-04-06T09:00:34.247781Z",
     "iopub.status.busy": "2022-04-06T09:00:34.246587Z",
     "iopub.status.idle": "2022-04-06T09:00:34.249860Z",
     "shell.execute_reply": "2022-04-06T09:00:34.249299Z",
     "shell.execute_reply.started": "2022-04-06T08:59:31.944840Z"
    },
    "papermill": {
     "duration": 0.079079,
     "end_time": "2022-04-06T09:00:34.250047",
     "exception": false,
     "start_time": "2022-04-06T09:00:34.170968",
     "status": "completed"
    },
    "tags": []
   },
   "outputs": [],
   "source": [
    "def outlier_3(df, columns=None):\n",
    "    if columns == None:\n",
    "        columns = df.columns\n",
    "    for col in columns:\n",
    "        mean = df[col].mean()\n",
    "        std = df[col].std()\n",
    "        \n",
    "        border = np.abs(df[col] - mean) / std\n",
    "        \n",
    "        df = df[(border < 1.2)]\n",
    "    \n",
    "    return df"
   ]
  },
  {
   "cell_type": "code",
   "execution_count": 19,
   "metadata": {
    "execution": {
     "iopub.execute_input": "2022-04-06T09:00:34.399838Z",
     "iopub.status.busy": "2022-04-06T09:00:34.399074Z",
     "iopub.status.idle": "2022-04-06T09:00:34.467802Z",
     "shell.execute_reply": "2022-04-06T09:00:34.468329Z",
     "shell.execute_reply.started": "2022-04-06T08:59:31.957859Z"
    },
    "papermill": {
     "duration": 0.14646,
     "end_time": "2022-04-06T09:00:34.468550",
     "exception": false,
     "start_time": "2022-04-06T09:00:34.322090",
     "status": "completed"
    },
    "tags": []
   },
   "outputs": [
    {
     "name": "stdout",
     "output_type": "stream",
     "text": [
      "(255836, 18)\n",
      "(252209, 18)\n",
      "(239853, 18)\n",
      "(216503, 18)\n",
      "(196479, 18)\n"
     ]
    }
   ],
   "source": [
    "print(train.shape)\n",
    "train = outlier(train, ['SleepTime'])\n",
    "print(train.shape)\n",
    "train = outlier_2(train, ['BMI'])\n",
    "print(train.shape)\n",
    "train = outlier_3(train, ['PhysicalHealth'])\n",
    "print(train.shape)\n",
    "train = outlier_3(train, ['MentalHealth'])\n",
    "print(train.shape)"
   ]
  },
  {
   "cell_type": "code",
   "execution_count": 20,
   "metadata": {
    "execution": {
     "iopub.execute_input": "2022-04-06T09:00:34.624549Z",
     "iopub.status.busy": "2022-04-06T09:00:34.618402Z",
     "iopub.status.idle": "2022-04-06T09:00:34.645274Z",
     "shell.execute_reply": "2022-04-06T09:00:34.644238Z",
     "shell.execute_reply.started": "2022-04-06T08:59:32.031577Z"
    },
    "papermill": {
     "duration": 0.104041,
     "end_time": "2022-04-06T09:00:34.645469",
     "exception": false,
     "start_time": "2022-04-06T09:00:34.541428",
     "status": "completed"
    },
    "tags": []
   },
   "outputs": [
    {
     "name": "stdout",
     "output_type": "stream",
     "text": [
      "(63959, 18)\n",
      "(63043, 18)\n",
      "(59793, 18)\n",
      "(54007, 18)\n",
      "(48968, 18)\n"
     ]
    }
   ],
   "source": [
    "print(test.shape)\n",
    "test = outlier(test, ['SleepTime'])\n",
    "print(test.shape)\n",
    "test = outlier_2(test, ['BMI'])\n",
    "print(test.shape)\n",
    "test = outlier_3(test, ['PhysicalHealth'])\n",
    "print(test.shape)\n",
    "test = outlier_3(test, ['MentalHealth'])\n",
    "print(test.shape)"
   ]
  },
  {
   "cell_type": "code",
   "execution_count": 21,
   "metadata": {
    "execution": {
     "iopub.execute_input": "2022-04-06T09:00:34.841782Z",
     "iopub.status.busy": "2022-04-06T09:00:34.823450Z",
     "iopub.status.idle": "2022-04-06T09:00:35.343093Z",
     "shell.execute_reply": "2022-04-06T09:00:35.343615Z",
     "shell.execute_reply.started": "2022-04-06T08:59:32.060191Z"
    },
    "papermill": {
     "duration": 0.626723,
     "end_time": "2022-04-06T09:00:35.343816",
     "exception": false,
     "start_time": "2022-04-06T09:00:34.717093",
     "status": "completed"
    },
    "tags": []
   },
   "outputs": [
    {
     "data": {
      "image/png": "[encoded data removed]",
      "text/plain": [
       "<Figure size 1152x288 with 4 Axes>"
      ]
     },
     "metadata": {
      "needs_background": "light"
     },
     "output_type": "display_data"
    }
   ],
   "source": [
    "plt.subplots(1,4,figsize=(16,4))\n",
    "\n",
    "plt.subplot(141)\n",
    "sns.boxplot(train['SleepTime'],linewidth=1,palette='Set2')\n",
    "plt.subplot(142)\n",
    "sns.boxplot(train['BMI'],linewidth=1,palette='Set2')\n",
    "plt.subplot(143)\n",
    "sns.boxplot(train['PhysicalHealth'],linewidth=1,palette='Set2')\n",
    "plt.subplot(144)\n",
    "sns.boxplot(train['MentalHealth'],linewidth=1,palette='Set2')\n",
    "plt.show()"
   ]
  },
  {
   "cell_type": "code",
   "execution_count": 22,
   "metadata": {
    "execution": {
     "iopub.execute_input": "2022-04-06T09:00:35.490358Z",
     "iopub.status.busy": "2022-04-06T09:00:35.489706Z",
     "iopub.status.idle": "2022-04-06T09:00:35.496773Z",
     "shell.execute_reply": "2022-04-06T09:00:35.497265Z",
     "shell.execute_reply.started": "2022-04-06T08:59:32.610091Z"
    },
    "papermill": {
     "duration": 0.083006,
     "end_time": "2022-04-06T09:00:35.497477",
     "exception": false,
     "start_time": "2022-04-06T09:00:35.414471",
     "status": "completed"
    },
    "tags": []
   },
   "outputs": [],
   "source": [
    "train['Physical_MentalHealth'] = train['PhysicalHealth'] + train['MentalHealth']\n",
    "test['Physical_MentalHealth'] = test['PhysicalHealth'] + test['MentalHealth']"
   ]
  },
  {
   "cell_type": "code",
   "execution_count": 23,
   "metadata": {
    "execution": {
     "iopub.execute_input": "2022-04-06T09:00:35.648056Z",
     "iopub.status.busy": "2022-04-06T09:00:35.647389Z",
     "iopub.status.idle": "2022-04-06T09:00:39.900663Z",
     "shell.execute_reply": "2022-04-06T09:00:39.899953Z",
     "shell.execute_reply.started": "2022-04-06T08:59:32.619880Z"
    },
    "papermill": {
     "duration": 4.332476,
     "end_time": "2022-04-06T09:00:39.900842",
     "exception": false,
     "start_time": "2022-04-06T09:00:35.568366",
     "status": "completed"
    },
    "tags": []
   },
   "outputs": [
    {
     "data": {
      "image/png": "[encoded data removed]",
      "text/plain": [
       "<Figure size 864x288 with 2 Axes>"
      ]
     },
     "metadata": {
      "needs_background": "light"
     },
     "output_type": "display_data"
    }
   ],
   "source": [
    "train['PhysicalHealth_log'] = np.log1p(train['PhysicalHealth'])   #Take the logarithm after adding 1\n",
    "train['MentalHealth_log'] = np.log1p(train['MentalHealth'])\n",
    "\n",
    "plt.subplots(1,2,figsize=(12,4))\n",
    "plt.subplot(121)\n",
    "sns.distplot(train['PhysicalHealth_log'])\n",
    "sns.distplot(train['PhysicalHealth'])\n",
    "plt.ylim(ymin=0,ymax=3.3)\n",
    "plt.ylabel('')\n",
    "\n",
    "plt.subplot(122)\n",
    "sns.distplot(train['MentalHealth_log'])\n",
    "sns.distplot(train['MentalHealth'])\n",
    "plt.ylim(ymin=0,ymax=2.7)\n",
    "plt.ylabel('')\n",
    "plt.show()"
   ]
  },
  {
   "cell_type": "code",
   "execution_count": 24,
   "metadata": {
    "execution": {
     "iopub.execute_input": "2022-04-06T09:00:40.057143Z",
     "iopub.status.busy": "2022-04-06T09:00:40.056045Z",
     "iopub.status.idle": "2022-04-06T09:00:40.060781Z",
     "shell.execute_reply": "2022-04-06T09:00:40.061315Z",
     "shell.execute_reply.started": "2022-04-06T08:59:36.757051Z"
    },
    "papermill": {
     "duration": 0.085403,
     "end_time": "2022-04-06T09:00:40.061523",
     "exception": false,
     "start_time": "2022-04-06T09:00:39.976120",
     "status": "completed"
    },
    "tags": []
   },
   "outputs": [],
   "source": [
    "test['PhysicalHealth_log'] = np.log1p(test['PhysicalHealth'])\n",
    "test['MentalHealth_log'] = np.log1p(test['MentalHealth'])"
   ]
  },
  {
   "cell_type": "code",
   "execution_count": 25,
   "metadata": {
    "execution": {
     "iopub.execute_input": "2022-04-06T09:00:40.225850Z",
     "iopub.status.busy": "2022-04-06T09:00:40.221359Z",
     "iopub.status.idle": "2022-04-06T09:00:40.237618Z",
     "shell.execute_reply": "2022-04-06T09:00:40.238127Z",
     "shell.execute_reply.started": "2022-04-06T08:59:36.766511Z"
    },
    "papermill": {
     "duration": 0.104178,
     "end_time": "2022-04-06T09:00:40.238359",
     "exception": false,
     "start_time": "2022-04-06T09:00:40.134181",
     "status": "completed"
    },
    "tags": []
   },
   "outputs": [
    {
     "data": {
      "text/html": [
       "<div>\n",
       "<style scoped>\n",
       "    .dataframe tbody tr th:only-of-type {\n",
       "        vertical-align: middle;\n",
       "    }\n",
       "\n",
       "    .dataframe tbody tr th {\n",
       "        vertical-align: top;\n",
       "    }\n",
       "\n",
       "    .dataframe thead th {\n",
       "        text-align: right;\n",
       "    }\n",
       "</style>\n",
       "<table border=\"1\" class=\"dataframe\">\n",
       "  <thead>\n",
       "    <tr style=\"text-align: right;\">\n",
       "      <th></th>\n",
       "      <th>HeartDisease</th>\n",
       "      <th>BMI</th>\n",
       "      <th>Smoking</th>\n",
       "      <th>AlcoholDrinking</th>\n",
       "      <th>Stroke</th>\n",
       "      <th>PhysicalHealth</th>\n",
       "      <th>MentalHealth</th>\n",
       "      <th>DiffWalking</th>\n",
       "      <th>Sex</th>\n",
       "      <th>AgeCategory</th>\n",
       "      <th>...</th>\n",
       "      <th>Diabetic</th>\n",
       "      <th>PhysicalActivity</th>\n",
       "      <th>GenHealth</th>\n",
       "      <th>SleepTime</th>\n",
       "      <th>Asthma</th>\n",
       "      <th>KidneyDisease</th>\n",
       "      <th>SkinCancer</th>\n",
       "      <th>Physical_MentalHealth</th>\n",
       "      <th>PhysicalHealth_log</th>\n",
       "      <th>MentalHealth_log</th>\n",
       "    </tr>\n",
       "  </thead>\n",
       "  <tbody>\n",
       "    <tr>\n",
       "      <th>131927</th>\n",
       "      <td>1</td>\n",
       "      <td>30.13</td>\n",
       "      <td>1</td>\n",
       "      <td>0</td>\n",
       "      <td>0</td>\n",
       "      <td>0.0</td>\n",
       "      <td>0.0</td>\n",
       "      <td>0</td>\n",
       "      <td>0</td>\n",
       "      <td>12</td>\n",
       "      <td>...</td>\n",
       "      <td>1</td>\n",
       "      <td>0</td>\n",
       "      <td>3</td>\n",
       "      <td>7.0</td>\n",
       "      <td>0</td>\n",
       "      <td>0</td>\n",
       "      <td>0</td>\n",
       "      <td>0.0</td>\n",
       "      <td>0.0</td>\n",
       "      <td>0.0</td>\n",
       "    </tr>\n",
       "    <tr>\n",
       "      <th>292375</th>\n",
       "      <td>0</td>\n",
       "      <td>35.51</td>\n",
       "      <td>0</td>\n",
       "      <td>0</td>\n",
       "      <td>1</td>\n",
       "      <td>0.0</td>\n",
       "      <td>0.0</td>\n",
       "      <td>0</td>\n",
       "      <td>1</td>\n",
       "      <td>4</td>\n",
       "      <td>...</td>\n",
       "      <td>0</td>\n",
       "      <td>1</td>\n",
       "      <td>2</td>\n",
       "      <td>7.0</td>\n",
       "      <td>1</td>\n",
       "      <td>0</td>\n",
       "      <td>0</td>\n",
       "      <td>0.0</td>\n",
       "      <td>0.0</td>\n",
       "      <td>0.0</td>\n",
       "    </tr>\n",
       "    <tr>\n",
       "      <th>292538</th>\n",
       "      <td>0</td>\n",
       "      <td>24.89</td>\n",
       "      <td>0</td>\n",
       "      <td>1</td>\n",
       "      <td>0</td>\n",
       "      <td>0.0</td>\n",
       "      <td>0.0</td>\n",
       "      <td>0</td>\n",
       "      <td>1</td>\n",
       "      <td>4</td>\n",
       "      <td>...</td>\n",
       "      <td>0</td>\n",
       "      <td>1</td>\n",
       "      <td>1</td>\n",
       "      <td>7.0</td>\n",
       "      <td>0</td>\n",
       "      <td>0</td>\n",
       "      <td>0</td>\n",
       "      <td>0.0</td>\n",
       "      <td>0.0</td>\n",
       "      <td>0.0</td>\n",
       "    </tr>\n",
       "    <tr>\n",
       "      <th>100928</th>\n",
       "      <td>0</td>\n",
       "      <td>26.50</td>\n",
       "      <td>1</td>\n",
       "      <td>0</td>\n",
       "      <td>0</td>\n",
       "      <td>0.0</td>\n",
       "      <td>0.0</td>\n",
       "      <td>0</td>\n",
       "      <td>0</td>\n",
       "      <td>5</td>\n",
       "      <td>...</td>\n",
       "      <td>0</td>\n",
       "      <td>1</td>\n",
       "      <td>1</td>\n",
       "      <td>7.0</td>\n",
       "      <td>0</td>\n",
       "      <td>0</td>\n",
       "      <td>0</td>\n",
       "      <td>0.0</td>\n",
       "      <td>0.0</td>\n",
       "      <td>0.0</td>\n",
       "    </tr>\n",
       "    <tr>\n",
       "      <th>74077</th>\n",
       "      <td>0</td>\n",
       "      <td>21.97</td>\n",
       "      <td>0</td>\n",
       "      <td>0</td>\n",
       "      <td>0</td>\n",
       "      <td>0.0</td>\n",
       "      <td>0.0</td>\n",
       "      <td>0</td>\n",
       "      <td>1</td>\n",
       "      <td>7</td>\n",
       "      <td>...</td>\n",
       "      <td>0</td>\n",
       "      <td>1</td>\n",
       "      <td>2</td>\n",
       "      <td>8.0</td>\n",
       "      <td>0</td>\n",
       "      <td>0</td>\n",
       "      <td>0</td>\n",
       "      <td>0.0</td>\n",
       "      <td>0.0</td>\n",
       "      <td>0.0</td>\n",
       "    </tr>\n",
       "  </tbody>\n",
       "</table>\n",
       "<p>5 rows × 21 columns</p>\n",
       "</div>"
      ],
      "text/plain": [
       "        HeartDisease    BMI  Smoking  AlcoholDrinking  Stroke  PhysicalHealth  \\\n",
       "131927             1  30.13        1                0       0             0.0   \n",
       "292375             0  35.51        0                0       1             0.0   \n",
       "292538             0  24.89        0                1       0             0.0   \n",
       "100928             0  26.50        1                0       0             0.0   \n",
       "74077              0  21.97        0                0       0             0.0   \n",
       "\n",
       "        MentalHealth  DiffWalking  Sex  AgeCategory  ...  Diabetic  \\\n",
       "131927           0.0            0    0           12  ...         1   \n",
       "292375           0.0            0    1            4  ...         0   \n",
       "292538           0.0            0    1            4  ...         0   \n",
       "100928           0.0            0    0            5  ...         0   \n",
       "74077            0.0            0    1            7  ...         0   \n",
       "\n",
       "        PhysicalActivity  GenHealth  SleepTime  Asthma  KidneyDisease  \\\n",
       "131927                 0          3        7.0       0              0   \n",
       "292375                 1          2        7.0       1              0   \n",
       "292538                 1          1        7.0       0              0   \n",
       "100928                 1          1        7.0       0              0   \n",
       "74077                  1          2        8.0       0              0   \n",
       "\n",
       "        SkinCancer  Physical_MentalHealth  PhysicalHealth_log  \\\n",
       "131927           0                    0.0                 0.0   \n",
       "292375           0                    0.0                 0.0   \n",
       "292538           0                    0.0                 0.0   \n",
       "100928           0                    0.0                 0.0   \n",
       "74077            0                    0.0                 0.0   \n",
       "\n",
       "        MentalHealth_log  \n",
       "131927               0.0  \n",
       "292375               0.0  \n",
       "292538               0.0  \n",
       "100928               0.0  \n",
       "74077                0.0  \n",
       "\n",
       "[5 rows x 21 columns]"
      ]
     },
     "execution_count": 25,
     "metadata": {},
     "output_type": "execute_result"
    }
   ],
   "source": [
    "train.head()"
   ]
  },
  {
   "cell_type": "code",
   "execution_count": 26,
   "metadata": {
    "execution": {
     "iopub.execute_input": "2022-04-06T09:00:40.393564Z",
     "iopub.status.busy": "2022-04-06T09:00:40.392816Z",
     "iopub.status.idle": "2022-04-06T09:00:40.533025Z",
     "shell.execute_reply": "2022-04-06T09:00:40.533555Z",
     "shell.execute_reply.started": "2022-04-06T08:59:36.802921Z"
    },
    "papermill": {
     "duration": 0.220053,
     "end_time": "2022-04-06T09:00:40.533777",
     "exception": false,
     "start_time": "2022-04-06T09:00:40.313724",
     "status": "completed"
    },
    "tags": []
   },
   "outputs": [],
   "source": [
    "y_train = train['HeartDisease']\n",
    "X_train = train.drop('HeartDisease',axis=1)\n",
    "X_train, X_valid, y_train, y_valid = train_test_split(X_train, y_train, stratify=train['HeartDisease'], test_size=.2, random_state=1205)\n",
    "\n",
    "y_test = test['HeartDisease']\n",
    "X_test = test.drop('HeartDisease', axis=1)"
   ]
  },
  {
   "cell_type": "code",
   "execution_count": 27,
   "metadata": {
    "execution": {
     "iopub.execute_input": "2022-04-06T09:00:40.685733Z",
     "iopub.status.busy": "2022-04-06T09:00:40.684973Z",
     "iopub.status.idle": "2022-04-06T09:00:40.704379Z",
     "shell.execute_reply": "2022-04-06T09:00:40.704892Z",
     "shell.execute_reply.started": "2022-04-06T08:59:36.962154Z"
    },
    "papermill": {
     "duration": 0.097667,
     "end_time": "2022-04-06T09:00:40.705094",
     "exception": false,
     "start_time": "2022-04-06T09:00:40.607427",
     "status": "completed"
    },
    "tags": []
   },
   "outputs": [
    {
     "data": {
      "text/html": [
       "<div>\n",
       "<style scoped>\n",
       "    .dataframe tbody tr th:only-of-type {\n",
       "        vertical-align: middle;\n",
       "    }\n",
       "\n",
       "    .dataframe tbody tr th {\n",
       "        vertical-align: top;\n",
       "    }\n",
       "\n",
       "    .dataframe thead th {\n",
       "        text-align: right;\n",
       "    }\n",
       "</style>\n",
       "<table border=\"1\" class=\"dataframe\">\n",
       "  <thead>\n",
       "    <tr style=\"text-align: right;\">\n",
       "      <th></th>\n",
       "      <th>BMI</th>\n",
       "      <th>Smoking</th>\n",
       "      <th>AlcoholDrinking</th>\n",
       "      <th>Stroke</th>\n",
       "      <th>PhysicalHealth</th>\n",
       "      <th>MentalHealth</th>\n",
       "      <th>DiffWalking</th>\n",
       "      <th>Sex</th>\n",
       "      <th>AgeCategory</th>\n",
       "      <th>Race</th>\n",
       "      <th>Diabetic</th>\n",
       "      <th>PhysicalActivity</th>\n",
       "      <th>GenHealth</th>\n",
       "      <th>SleepTime</th>\n",
       "      <th>Asthma</th>\n",
       "      <th>KidneyDisease</th>\n",
       "      <th>SkinCancer</th>\n",
       "      <th>Physical_MentalHealth</th>\n",
       "      <th>PhysicalHealth_log</th>\n",
       "      <th>MentalHealth_log</th>\n",
       "    </tr>\n",
       "  </thead>\n",
       "  <tbody>\n",
       "    <tr>\n",
       "      <th>302267</th>\n",
       "      <td>25.75</td>\n",
       "      <td>0</td>\n",
       "      <td>0</td>\n",
       "      <td>0</td>\n",
       "      <td>0.0</td>\n",
       "      <td>0.0</td>\n",
       "      <td>0</td>\n",
       "      <td>1</td>\n",
       "      <td>4</td>\n",
       "      <td>0</td>\n",
       "      <td>0</td>\n",
       "      <td>1</td>\n",
       "      <td>2</td>\n",
       "      <td>8.0</td>\n",
       "      <td>0</td>\n",
       "      <td>0</td>\n",
       "      <td>0</td>\n",
       "      <td>0.0</td>\n",
       "      <td>0.000000</td>\n",
       "      <td>0.0</td>\n",
       "    </tr>\n",
       "    <tr>\n",
       "      <th>192452</th>\n",
       "      <td>30.68</td>\n",
       "      <td>1</td>\n",
       "      <td>0</td>\n",
       "      <td>0</td>\n",
       "      <td>10.0</td>\n",
       "      <td>0.0</td>\n",
       "      <td>0</td>\n",
       "      <td>0</td>\n",
       "      <td>5</td>\n",
       "      <td>1</td>\n",
       "      <td>1</td>\n",
       "      <td>0</td>\n",
       "      <td>2</td>\n",
       "      <td>9.0</td>\n",
       "      <td>0</td>\n",
       "      <td>1</td>\n",
       "      <td>0</td>\n",
       "      <td>10.0</td>\n",
       "      <td>2.397895</td>\n",
       "      <td>0.0</td>\n",
       "    </tr>\n",
       "    <tr>\n",
       "      <th>36019</th>\n",
       "      <td>31.47</td>\n",
       "      <td>0</td>\n",
       "      <td>0</td>\n",
       "      <td>0</td>\n",
       "      <td>0.0</td>\n",
       "      <td>0.0</td>\n",
       "      <td>0</td>\n",
       "      <td>1</td>\n",
       "      <td>2</td>\n",
       "      <td>0</td>\n",
       "      <td>0</td>\n",
       "      <td>1</td>\n",
       "      <td>1</td>\n",
       "      <td>7.0</td>\n",
       "      <td>1</td>\n",
       "      <td>0</td>\n",
       "      <td>0</td>\n",
       "      <td>0.0</td>\n",
       "      <td>0.000000</td>\n",
       "      <td>0.0</td>\n",
       "    </tr>\n",
       "    <tr>\n",
       "      <th>302807</th>\n",
       "      <td>23.75</td>\n",
       "      <td>0</td>\n",
       "      <td>0</td>\n",
       "      <td>0</td>\n",
       "      <td>5.0</td>\n",
       "      <td>0.0</td>\n",
       "      <td>0</td>\n",
       "      <td>0</td>\n",
       "      <td>10</td>\n",
       "      <td>0</td>\n",
       "      <td>0</td>\n",
       "      <td>1</td>\n",
       "      <td>2</td>\n",
       "      <td>7.0</td>\n",
       "      <td>0</td>\n",
       "      <td>1</td>\n",
       "      <td>1</td>\n",
       "      <td>5.0</td>\n",
       "      <td>1.791759</td>\n",
       "      <td>0.0</td>\n",
       "    </tr>\n",
       "    <tr>\n",
       "      <th>46455</th>\n",
       "      <td>23.49</td>\n",
       "      <td>0</td>\n",
       "      <td>0</td>\n",
       "      <td>0</td>\n",
       "      <td>0.0</td>\n",
       "      <td>0.0</td>\n",
       "      <td>0</td>\n",
       "      <td>0</td>\n",
       "      <td>12</td>\n",
       "      <td>0</td>\n",
       "      <td>0</td>\n",
       "      <td>1</td>\n",
       "      <td>1</td>\n",
       "      <td>8.0</td>\n",
       "      <td>0</td>\n",
       "      <td>0</td>\n",
       "      <td>0</td>\n",
       "      <td>0.0</td>\n",
       "      <td>0.000000</td>\n",
       "      <td>0.0</td>\n",
       "    </tr>\n",
       "  </tbody>\n",
       "</table>\n",
       "</div>"
      ],
      "text/plain": [
       "          BMI  Smoking  AlcoholDrinking  Stroke  PhysicalHealth  MentalHealth  \\\n",
       "302267  25.75        0                0       0             0.0           0.0   \n",
       "192452  30.68        1                0       0            10.0           0.0   \n",
       "36019   31.47        0                0       0             0.0           0.0   \n",
       "302807  23.75        0                0       0             5.0           0.0   \n",
       "46455   23.49        0                0       0             0.0           0.0   \n",
       "\n",
       "        DiffWalking  Sex  AgeCategory  Race  Diabetic  PhysicalActivity  \\\n",
       "302267            0    1            4     0         0                 1   \n",
       "192452            0    0            5     1         1                 0   \n",
       "36019             0    1            2     0         0                 1   \n",
       "302807            0    0           10     0         0                 1   \n",
       "46455             0    0           12     0         0                 1   \n",
       "\n",
       "        GenHealth  SleepTime  Asthma  KidneyDisease  SkinCancer  \\\n",
       "302267          2        8.0       0              0           0   \n",
       "192452          2        9.0       0              1           0   \n",
       "36019           1        7.0       1              0           0   \n",
       "302807          2        7.0       0              1           1   \n",
       "46455           1        8.0       0              0           0   \n",
       "\n",
       "        Physical_MentalHealth  PhysicalHealth_log  MentalHealth_log  \n",
       "302267                    0.0            0.000000               0.0  \n",
       "192452                   10.0            2.397895               0.0  \n",
       "36019                     0.0            0.000000               0.0  \n",
       "302807                    5.0            1.791759               0.0  \n",
       "46455                     0.0            0.000000               0.0  "
      ]
     },
     "execution_count": 27,
     "metadata": {},
     "output_type": "execute_result"
    }
   ],
   "source": [
    "X_train.head(5)"
   ]
  },
  {
   "cell_type": "markdown",
   "metadata": {
    "papermill": {
     "duration": 0.074242,
     "end_time": "2022-04-06T09:00:40.853186",
     "exception": false,
     "start_time": "2022-04-06T09:00:40.778944",
     "status": "completed"
    },
    "tags": []
   },
   "source": [
    "# Random Forest"
   ]
  },
  {
   "cell_type": "code",
   "execution_count": 28,
   "metadata": {
    "execution": {
     "iopub.execute_input": "2022-04-06T09:00:41.013380Z",
     "iopub.status.busy": "2022-04-06T09:00:41.012589Z",
     "iopub.status.idle": "2022-04-06T09:02:01.024560Z",
     "shell.execute_reply": "2022-04-06T09:02:01.025128Z",
     "shell.execute_reply.started": "2022-04-06T08:59:36.990141Z"
    },
    "papermill": {
     "duration": 80.097655,
     "end_time": "2022-04-06T09:02:01.025388",
     "exception": false,
     "start_time": "2022-04-06T09:00:40.927733",
     "status": "completed"
    },
    "tags": []
   },
   "outputs": [
    {
     "name": "stdout",
     "output_type": "stream",
     "text": [
      "Best params: {'criterion': 'entropy', 'max_depth': 10, 'max_features': 'sqrt', 'n_estimators': 32}\n",
      "Best Score: 0.9302087376642513\n",
      "1.3321358521779378\n"
     ]
    }
   ],
   "source": [
    "#grid search\n",
    "\n",
    "import time\n",
    "t1 = time.time()\n",
    "\n",
    "parameters = {  \n",
    "    'n_estimators': [24,28,32],   \n",
    "    'max_features': ('sqrt','log2','auto'), \n",
    "    'max_depth':    (5,10,15),     \n",
    "    'criterion'   : ['gini', 'entropy'],\n",
    "}\n",
    "model = RandomForestClassifier()\n",
    "gridsearch = GridSearchCV(estimator = model,     \n",
    "                          param_grid = parameters, \n",
    "                          cv = 2,\n",
    "                          n_jobs = -1,\n",
    "                          return_train_score = False,\n",
    "                          scoring = \"accuracy\"      \n",
    "                         )\n",
    "gridsearch.fit(X_train, y_train)\n",
    "\n",
    "t2 = time.time()\n",
    "\n",
    "print('Best params: {}'.format(gridsearch.best_params_)) \n",
    "print('Best Score: {}'.format(gridsearch.best_score_))\n",
    "print((t2-t1)/60)"
   ]
  },
  {
   "cell_type": "code",
   "execution_count": 29,
   "metadata": {
    "execution": {
     "iopub.execute_input": "2022-04-06T09:02:01.185147Z",
     "iopub.status.busy": "2022-04-06T09:02:01.184472Z",
     "iopub.status.idle": "2022-04-06T09:02:04.211122Z",
     "shell.execute_reply": "2022-04-06T09:02:04.211647Z",
     "shell.execute_reply.started": "2022-04-06T08:59:47.858524Z"
    },
    "papermill": {
     "duration": 3.109261,
     "end_time": "2022-04-06T09:02:04.211856",
     "exception": false,
     "start_time": "2022-04-06T09:02:01.102595",
     "status": "completed"
    },
    "tags": []
   },
   "outputs": [
    {
     "data": {
      "text/plain": [
       "RandomForestClassifier(criterion='entropy', max_depth=10, max_features='sqrt',\n",
       "                       n_estimators=28, random_state=0)"
      ]
     },
     "execution_count": 29,
     "metadata": {},
     "output_type": "execute_result"
    }
   ],
   "source": [
    "forest = RandomForestClassifier(n_estimators=28, max_depth=10, max_features='sqrt',criterion='entropy',random_state=0)\n",
    "forest.fit(X_train,y_train)"
   ]
  },
  {
   "cell_type": "code",
   "execution_count": 30,
   "metadata": {
    "execution": {
     "iopub.execute_input": "2022-04-06T09:02:04.365641Z",
     "iopub.status.busy": "2022-04-06T09:02:04.364996Z",
     "iopub.status.idle": "2022-04-06T09:02:05.321604Z",
     "shell.execute_reply": "2022-04-06T09:02:05.320748Z",
     "shell.execute_reply.started": "2022-04-06T08:59:47.860775Z"
    },
    "papermill": {
     "duration": 1.035315,
     "end_time": "2022-04-06T09:02:05.321830",
     "exception": false,
     "start_time": "2022-04-06T09:02:04.286515",
     "status": "completed"
    },
    "tags": []
   },
   "outputs": [
    {
     "name": "stdout",
     "output_type": "stream",
     "text": [
      "0.9318946705432521\n",
      "0.930171009771987\n",
      "0.9300972063388335\n"
     ]
    }
   ],
   "source": [
    "print(forest.score(X_train,y_train))\n",
    "print(forest.score(X_valid,y_valid))\n",
    "print(forest.score(X_test,y_test))"
   ]
  },
  {
   "cell_type": "markdown",
   "metadata": {
    "papermill": {
     "duration": 0.078497,
     "end_time": "2022-04-06T09:02:05.501054",
     "exception": false,
     "start_time": "2022-04-06T09:02:05.422557",
     "status": "completed"
    },
    "tags": []
   },
   "source": [
    "# LightBGM"
   ]
  },
  {
   "cell_type": "code",
   "execution_count": 31,
   "metadata": {
    "execution": {
     "iopub.execute_input": "2022-04-06T09:02:05.705657Z",
     "iopub.status.busy": "2022-04-06T09:02:05.704563Z",
     "iopub.status.idle": "2022-04-06T09:02:05.706703Z",
     "shell.execute_reply": "2022-04-06T09:02:05.707324Z",
     "shell.execute_reply.started": "2022-04-06T08:59:47.862965Z"
    },
    "papermill": {
     "duration": 0.124426,
     "end_time": "2022-04-06T09:02:05.707524",
     "exception": false,
     "start_time": "2022-04-06T09:02:05.583098",
     "status": "completed"
    },
    "tags": []
   },
   "outputs": [],
   "source": [
    "categorical_features = ['Smoking', 'AlcoholDrinking', 'Stroke','DiffWalking', 'Sex', 'AgeCategory', 'Race', 'Diabetic',\n",
    "       'PhysicalActivity', 'GenHealth', 'Asthma', 'KidneyDisease',\n",
    "       'SkinCancer']\n",
    "lgb_train = lgb.Dataset(X_train, y_train, categorical_feature=categorical_features)\n",
    "lgb_eval = lgb.Dataset(X_valid, y_valid, reference=lgb_train,categorical_feature=categorical_features)"
   ]
  },
  {
   "cell_type": "code",
   "execution_count": 32,
   "metadata": {
    "execution": {
     "iopub.execute_input": "2022-04-06T09:02:05.869401Z",
     "iopub.status.busy": "2022-04-06T09:02:05.868323Z",
     "iopub.status.idle": "2022-04-06T09:04:26.637743Z",
     "shell.execute_reply": "2022-04-06T09:04:26.638363Z",
     "shell.execute_reply.started": "2022-04-06T08:59:47.865113Z"
    },
    "papermill": {
     "duration": 140.853109,
     "end_time": "2022-04-06T09:04:26.638587",
     "exception": false,
     "start_time": "2022-04-06T09:02:05.785478",
     "status": "completed"
    },
    "tags": []
   },
   "outputs": [
    {
     "name": "stdout",
     "output_type": "stream",
     "text": [
      "LGBMClassifier(learning_rate=0.04, max_depth=6, n_estimators=109, num_leaves=27)\n",
      "{'learning_rate': 0.04, 'max_depth': 6, 'n_estimators': 109, 'num_leaves': 27}\n",
      "2.3446885148684182\n"
     ]
    }
   ],
   "source": [
    "t1 = time.time()\n",
    "\n",
    "model = lgb.LGBMClassifier()\n",
    "\n",
    "param_grid = {\"max_depth\": [5,6,7,8],\n",
    "              \"learning_rate\" : [0.04,0.0450,0.05],\n",
    "              \"num_leaves\": [26,27,30],\n",
    "              \"n_estimators\": [109,111,114]\n",
    "             }\n",
    "\n",
    "grid_result = GridSearchCV(estimator = model,\n",
    "                           param_grid = param_grid,\n",
    "                           scoring = 'accuracy',\n",
    "                           cv = 2,\n",
    "                           return_train_score = False,\n",
    "                           n_jobs = -1)\n",
    "\n",
    "grid_result.fit(X_train,y_train)\n",
    "\n",
    "t2 = time.time()\n",
    "\n",
    "print(grid_result.best_estimator_)\n",
    "print((grid_result.best_params_))\n",
    "print((t2-t1)/60)"
   ]
  },
  {
   "cell_type": "code",
   "execution_count": 33,
   "metadata": {
    "execution": {
     "iopub.execute_input": "2022-04-06T09:04:26.800954Z",
     "iopub.status.busy": "2022-04-06T09:04:26.800282Z",
     "iopub.status.idle": "2022-04-06T09:04:28.701825Z",
     "shell.execute_reply": "2022-04-06T09:04:28.702819Z",
     "shell.execute_reply.started": "2022-04-06T08:59:47.866743Z"
    },
    "papermill": {
     "duration": 1.987187,
     "end_time": "2022-04-06T09:04:28.703076",
     "exception": false,
     "start_time": "2022-04-06T09:04:26.715889",
     "status": "completed"
    },
    "tags": []
   },
   "outputs": [
    {
     "name": "stdout",
     "output_type": "stream",
     "text": [
      "[LightGBM] [Info] Number of positive: 11030, number of negative: 146153\n",
      "[LightGBM] [Warning] Auto-choosing row-wise multi-threading, the overhead of testing was 0.023664 seconds.\n",
      "You can set `force_row_wise=true` to remove the overhead.\n",
      "And if memory is not enough, you can set `force_col_wise=true`.\n",
      "[LightGBM] [Info] Total Bins 395\n",
      "[LightGBM] [Info] Number of data points in the train set: 157183, number of used features: 20\n",
      "[LightGBM] [Info] [binary:BoostFromScore]: pavg=0.070173 -> initscore=-2.584035\n",
      "[LightGBM] [Info] Start training from score -2.584035\n",
      "[1]\ttraining's binary_logloss: 0.249483\tvalid_1's binary_logloss: 0.249318\n",
      "[2]\ttraining's binary_logloss: 0.245588\tvalid_1's binary_logloss: 0.245417\n",
      "[3]\ttraining's binary_logloss: 0.242149\tvalid_1's binary_logloss: 0.241939\n",
      "[4]\ttraining's binary_logloss: 0.23915\tvalid_1's binary_logloss: 0.238843\n",
      "[5]\ttraining's binary_logloss: 0.23635\tvalid_1's binary_logloss: 0.236049\n",
      "[6]\ttraining's binary_logloss: 0.233851\tvalid_1's binary_logloss: 0.233544\n",
      "[7]\ttraining's binary_logloss: 0.231609\tvalid_1's binary_logloss: 0.231296\n",
      "[8]\ttraining's binary_logloss: 0.229546\tvalid_1's binary_logloss: 0.229225\n",
      "[9]\ttraining's binary_logloss: 0.22768\tvalid_1's binary_logloss: 0.227379\n",
      "[10]\ttraining's binary_logloss: 0.225964\tvalid_1's binary_logloss: 0.22565\n",
      "[11]\ttraining's binary_logloss: 0.224369\tvalid_1's binary_logloss: 0.224061\n",
      "[12]\ttraining's binary_logloss: 0.222903\tvalid_1's binary_logloss: 0.222568\n",
      "[13]\ttraining's binary_logloss: 0.221526\tvalid_1's binary_logloss: 0.221191\n",
      "[14]\ttraining's binary_logloss: 0.220275\tvalid_1's binary_logloss: 0.219929\n",
      "[15]\ttraining's binary_logloss: 0.219096\tvalid_1's binary_logloss: 0.218754\n",
      "[16]\ttraining's binary_logloss: 0.217962\tvalid_1's binary_logloss: 0.21761\n",
      "[17]\ttraining's binary_logloss: 0.216901\tvalid_1's binary_logloss: 0.216534\n",
      "[18]\ttraining's binary_logloss: 0.215934\tvalid_1's binary_logloss: 0.215566\n",
      "[19]\ttraining's binary_logloss: 0.215019\tvalid_1's binary_logloss: 0.214654\n",
      "[20]\ttraining's binary_logloss: 0.21417\tvalid_1's binary_logloss: 0.213778\n",
      "[21]\ttraining's binary_logloss: 0.213354\tvalid_1's binary_logloss: 0.212966\n",
      "[22]\ttraining's binary_logloss: 0.212593\tvalid_1's binary_logloss: 0.212201\n",
      "[23]\ttraining's binary_logloss: 0.211882\tvalid_1's binary_logloss: 0.211488\n",
      "[24]\ttraining's binary_logloss: 0.21121\tvalid_1's binary_logloss: 0.210824\n",
      "[25]\ttraining's binary_logloss: 0.210533\tvalid_1's binary_logloss: 0.210139\n",
      "[26]\ttraining's binary_logloss: 0.209932\tvalid_1's binary_logloss: 0.209526\n",
      "[27]\ttraining's binary_logloss: 0.209338\tvalid_1's binary_logloss: 0.20892\n",
      "[28]\ttraining's binary_logloss: 0.208809\tvalid_1's binary_logloss: 0.208411\n",
      "[29]\ttraining's binary_logloss: 0.208262\tvalid_1's binary_logloss: 0.207862\n",
      "[30]\ttraining's binary_logloss: 0.207769\tvalid_1's binary_logloss: 0.207386\n",
      "[31]\ttraining's binary_logloss: 0.207286\tvalid_1's binary_logloss: 0.206902\n",
      "[32]\ttraining's binary_logloss: 0.206852\tvalid_1's binary_logloss: 0.206462\n",
      "[33]\ttraining's binary_logloss: 0.206416\tvalid_1's binary_logloss: 0.206011\n",
      "[34]\ttraining's binary_logloss: 0.206007\tvalid_1's binary_logloss: 0.205588\n",
      "[35]\ttraining's binary_logloss: 0.205619\tvalid_1's binary_logloss: 0.205202\n",
      "[36]\ttraining's binary_logloss: 0.205261\tvalid_1's binary_logloss: 0.204857\n",
      "[37]\ttraining's binary_logloss: 0.204911\tvalid_1's binary_logloss: 0.204477\n",
      "[38]\ttraining's binary_logloss: 0.204575\tvalid_1's binary_logloss: 0.204161\n",
      "[39]\ttraining's binary_logloss: 0.204258\tvalid_1's binary_logloss: 0.203861\n",
      "[40]\ttraining's binary_logloss: 0.203952\tvalid_1's binary_logloss: 0.203569\n",
      "[41]\ttraining's binary_logloss: 0.203671\tvalid_1's binary_logloss: 0.203299\n",
      "[42]\ttraining's binary_logloss: 0.203403\tvalid_1's binary_logloss: 0.203033\n",
      "[43]\ttraining's binary_logloss: 0.203142\tvalid_1's binary_logloss: 0.202772\n",
      "[44]\ttraining's binary_logloss: 0.202886\tvalid_1's binary_logloss: 0.202539\n",
      "[45]\ttraining's binary_logloss: 0.20265\tvalid_1's binary_logloss: 0.202306\n",
      "[46]\ttraining's binary_logloss: 0.202419\tvalid_1's binary_logloss: 0.202065\n",
      "[47]\ttraining's binary_logloss: 0.202194\tvalid_1's binary_logloss: 0.20185\n",
      "[48]\ttraining's binary_logloss: 0.20198\tvalid_1's binary_logloss: 0.201646\n",
      "[49]\ttraining's binary_logloss: 0.201775\tvalid_1's binary_logloss: 0.201447\n",
      "[50]\ttraining's binary_logloss: 0.201585\tvalid_1's binary_logloss: 0.201269\n",
      "[51]\ttraining's binary_logloss: 0.2014\tvalid_1's binary_logloss: 0.201094\n",
      "[52]\ttraining's binary_logloss: 0.201221\tvalid_1's binary_logloss: 0.200936\n",
      "[53]\ttraining's binary_logloss: 0.201043\tvalid_1's binary_logloss: 0.200782\n",
      "[54]\ttraining's binary_logloss: 0.200881\tvalid_1's binary_logloss: 0.200632\n",
      "[55]\ttraining's binary_logloss: 0.200724\tvalid_1's binary_logloss: 0.200484\n",
      "[56]\ttraining's binary_logloss: 0.200572\tvalid_1's binary_logloss: 0.20034\n",
      "[57]\ttraining's binary_logloss: 0.200429\tvalid_1's binary_logloss: 0.200202\n",
      "[58]\ttraining's binary_logloss: 0.200283\tvalid_1's binary_logloss: 0.20008\n",
      "[59]\ttraining's binary_logloss: 0.200151\tvalid_1's binary_logloss: 0.199962\n",
      "[60]\ttraining's binary_logloss: 0.200013\tvalid_1's binary_logloss: 0.199843\n",
      "[61]\ttraining's binary_logloss: 0.1999\tvalid_1's binary_logloss: 0.199751\n",
      "[62]\ttraining's binary_logloss: 0.199779\tvalid_1's binary_logloss: 0.199634\n",
      "[63]\ttraining's binary_logloss: 0.199662\tvalid_1's binary_logloss: 0.199548\n",
      "[64]\ttraining's binary_logloss: 0.199549\tvalid_1's binary_logloss: 0.19946\n",
      "[65]\ttraining's binary_logloss: 0.199439\tvalid_1's binary_logloss: 0.19937\n",
      "[66]\ttraining's binary_logloss: 0.199335\tvalid_1's binary_logloss: 0.199279\n",
      "[67]\ttraining's binary_logloss: 0.19923\tvalid_1's binary_logloss: 0.199202\n",
      "[68]\ttraining's binary_logloss: 0.199123\tvalid_1's binary_logloss: 0.199117\n",
      "[69]\ttraining's binary_logloss: 0.199027\tvalid_1's binary_logloss: 0.19904\n",
      "[70]\ttraining's binary_logloss: 0.198937\tvalid_1's binary_logloss: 0.198983\n",
      "[71]\ttraining's binary_logloss: 0.198843\tvalid_1's binary_logloss: 0.198911\n",
      "[72]\ttraining's binary_logloss: 0.198758\tvalid_1's binary_logloss: 0.198867\n",
      "[73]\ttraining's binary_logloss: 0.198679\tvalid_1's binary_logloss: 0.198795\n",
      "[74]\ttraining's binary_logloss: 0.198596\tvalid_1's binary_logloss: 0.198727\n",
      "[75]\ttraining's binary_logloss: 0.198515\tvalid_1's binary_logloss: 0.198673\n",
      "[76]\ttraining's binary_logloss: 0.198432\tvalid_1's binary_logloss: 0.198614\n",
      "[77]\ttraining's binary_logloss: 0.198355\tvalid_1's binary_logloss: 0.198557\n",
      "[78]\ttraining's binary_logloss: 0.198281\tvalid_1's binary_logloss: 0.198518\n",
      "[79]\ttraining's binary_logloss: 0.198213\tvalid_1's binary_logloss: 0.198469\n",
      "[80]\ttraining's binary_logloss: 0.198135\tvalid_1's binary_logloss: 0.198417\n",
      "[81]\ttraining's binary_logloss: 0.198068\tvalid_1's binary_logloss: 0.198381\n",
      "[82]\ttraining's binary_logloss: 0.198\tvalid_1's binary_logloss: 0.198335\n",
      "[83]\ttraining's binary_logloss: 0.197934\tvalid_1's binary_logloss: 0.198297\n",
      "[84]\ttraining's binary_logloss: 0.197876\tvalid_1's binary_logloss: 0.198255\n",
      "[85]\ttraining's binary_logloss: 0.197812\tvalid_1's binary_logloss: 0.198224\n",
      "[86]\ttraining's binary_logloss: 0.197746\tvalid_1's binary_logloss: 0.198188\n",
      "[87]\ttraining's binary_logloss: 0.197681\tvalid_1's binary_logloss: 0.198152\n",
      "[88]\ttraining's binary_logloss: 0.197621\tvalid_1's binary_logloss: 0.198117\n",
      "[89]\ttraining's binary_logloss: 0.19756\tvalid_1's binary_logloss: 0.198091\n",
      "[90]\ttraining's binary_logloss: 0.197506\tvalid_1's binary_logloss: 0.198062\n",
      "[91]\ttraining's binary_logloss: 0.197454\tvalid_1's binary_logloss: 0.198031\n",
      "[92]\ttraining's binary_logloss: 0.197398\tvalid_1's binary_logloss: 0.198009\n",
      "[93]\ttraining's binary_logloss: 0.197333\tvalid_1's binary_logloss: 0.197972\n",
      "[94]\ttraining's binary_logloss: 0.197275\tvalid_1's binary_logloss: 0.197948\n",
      "[95]\ttraining's binary_logloss: 0.197225\tvalid_1's binary_logloss: 0.197919\n",
      "[96]\ttraining's binary_logloss: 0.19717\tvalid_1's binary_logloss: 0.197894\n",
      "[97]\ttraining's binary_logloss: 0.197116\tvalid_1's binary_logloss: 0.197871\n",
      "[98]\ttraining's binary_logloss: 0.197065\tvalid_1's binary_logloss: 0.197846\n",
      "[99]\ttraining's binary_logloss: 0.197012\tvalid_1's binary_logloss: 0.197833\n",
      "[100]\ttraining's binary_logloss: 0.196962\tvalid_1's binary_logloss: 0.197804\n",
      "[101]\ttraining's binary_logloss: 0.19691\tvalid_1's binary_logloss: 0.197781\n",
      "[102]\ttraining's binary_logloss: 0.196859\tvalid_1's binary_logloss: 0.197751\n",
      "[103]\ttraining's binary_logloss: 0.196812\tvalid_1's binary_logloss: 0.197723\n",
      "[104]\ttraining's binary_logloss: 0.196754\tvalid_1's binary_logloss: 0.19772\n",
      "[105]\ttraining's binary_logloss: 0.196711\tvalid_1's binary_logloss: 0.1977\n",
      "[106]\ttraining's binary_logloss: 0.196668\tvalid_1's binary_logloss: 0.197683\n",
      "[107]\ttraining's binary_logloss: 0.196622\tvalid_1's binary_logloss: 0.197646\n",
      "[108]\ttraining's binary_logloss: 0.196583\tvalid_1's binary_logloss: 0.19763\n",
      "[109]\ttraining's binary_logloss: 0.196537\tvalid_1's binary_logloss: 0.197613\n"
     ]
    }
   ],
   "source": [
    "params={\n",
    "    'num_leaves':27,\n",
    "    'objective':'binary',\n",
    "    'max_depth':7,\n",
    "    'learning_rate':.04,\n",
    "    'n_estimators':109\n",
    "}\n",
    "num_round=30000\n",
    "\n",
    "model = lgb.train(params, lgb_train, valid_sets=[lgb_train, lgb_eval], num_boost_round=num_round, categorical_feature=categorical_features)"
   ]
  },
  {
   "cell_type": "code",
   "execution_count": 34,
   "metadata": {
    "execution": {
     "iopub.execute_input": "2022-04-06T09:04:28.874977Z",
     "iopub.status.busy": "2022-04-06T09:04:28.874306Z",
     "iopub.status.idle": "2022-04-06T09:04:29.046700Z",
     "shell.execute_reply": "2022-04-06T09:04:29.047451Z",
     "shell.execute_reply.started": "2022-04-06T08:59:47.868190Z"
    },
    "papermill": {
     "duration": 0.259216,
     "end_time": "2022-04-06T09:04:29.047690",
     "exception": false,
     "start_time": "2022-04-06T09:04:28.788474",
     "status": "completed"
    },
    "tags": []
   },
   "outputs": [],
   "source": [
    "y_pred = model.predict(X_test)\n",
    "y_pred = (y_pred > 0.5).astype(int)"
   ]
  },
  {
   "cell_type": "code",
   "execution_count": 35,
   "metadata": {
    "execution": {
     "iopub.execute_input": "2022-04-06T09:04:29.221377Z",
     "iopub.status.busy": "2022-04-06T09:04:29.220580Z",
     "iopub.status.idle": "2022-04-06T09:04:29.226132Z",
     "shell.execute_reply": "2022-04-06T09:04:29.225572Z",
     "shell.execute_reply.started": "2022-04-06T08:59:47.870056Z"
    },
    "papermill": {
     "duration": 0.094623,
     "end_time": "2022-04-06T09:04:29.226352",
     "exception": false,
     "start_time": "2022-04-06T09:04:29.131729",
     "status": "completed"
    },
    "tags": []
   },
   "outputs": [
    {
     "name": "stdout",
     "output_type": "stream",
     "text": [
      "0.9303014213363829\n"
     ]
    }
   ],
   "source": [
    "print(np.mean(y_pred == y_test))"
   ]
  },
  {
   "cell_type": "markdown",
   "metadata": {
    "papermill": {
     "duration": 0.082705,
     "end_time": "2022-04-06T09:04:29.390546",
     "exception": false,
     "start_time": "2022-04-06T09:04:29.307841",
     "status": "completed"
    },
    "tags": []
   },
   "source": [
    "# Neural Network   -tensorflow"
   ]
  },
  {
   "cell_type": "code",
   "execution_count": 36,
   "metadata": {
    "execution": {
     "iopub.execute_input": "2022-04-06T09:04:29.560174Z",
     "iopub.status.busy": "2022-04-06T09:04:29.559473Z",
     "iopub.status.idle": "2022-04-06T09:04:35.018265Z",
     "shell.execute_reply": "2022-04-06T09:04:35.017656Z",
     "shell.execute_reply.started": "2022-04-06T08:59:47.871628Z"
    },
    "papermill": {
     "duration": 5.545284,
     "end_time": "2022-04-06T09:04:35.018432",
     "exception": false,
     "start_time": "2022-04-06T09:04:29.473148",
     "status": "completed"
    },
    "tags": []
   },
   "outputs": [],
   "source": [
    "import tensorflow as tf\n",
    "from tensorflow import keras"
   ]
  },
  {
   "cell_type": "code",
   "execution_count": 37,
   "metadata": {
    "execution": {
     "iopub.execute_input": "2022-04-06T09:04:35.187376Z",
     "iopub.status.busy": "2022-04-06T09:04:35.186646Z",
     "iopub.status.idle": "2022-04-06T09:04:36.122812Z",
     "shell.execute_reply": "2022-04-06T09:04:36.121991Z",
     "shell.execute_reply.started": "2022-04-06T08:59:47.873029Z"
    },
    "papermill": {
     "duration": 1.02245,
     "end_time": "2022-04-06T09:04:36.122985",
     "exception": false,
     "start_time": "2022-04-06T09:04:35.100535",
     "status": "completed"
    },
    "tags": []
   },
   "outputs": [
    {
     "data": {
      "text/html": [
       "<div>\n",
       "<style scoped>\n",
       "    .dataframe tbody tr th:only-of-type {\n",
       "        vertical-align: middle;\n",
       "    }\n",
       "\n",
       "    .dataframe tbody tr th {\n",
       "        vertical-align: top;\n",
       "    }\n",
       "\n",
       "    .dataframe thead th {\n",
       "        text-align: right;\n",
       "    }\n",
       "</style>\n",
       "<table border=\"1\" class=\"dataframe\">\n",
       "  <thead>\n",
       "    <tr style=\"text-align: right;\">\n",
       "      <th></th>\n",
       "      <th>HeartDisease</th>\n",
       "      <th>BMI</th>\n",
       "      <th>Smoking</th>\n",
       "      <th>AlcoholDrinking</th>\n",
       "      <th>Stroke</th>\n",
       "      <th>PhysicalHealth</th>\n",
       "      <th>MentalHealth</th>\n",
       "      <th>DiffWalking</th>\n",
       "      <th>Sex</th>\n",
       "      <th>AgeCategory</th>\n",
       "      <th>Race</th>\n",
       "      <th>Diabetic</th>\n",
       "      <th>PhysicalActivity</th>\n",
       "      <th>GenHealth</th>\n",
       "      <th>SleepTime</th>\n",
       "      <th>Asthma</th>\n",
       "      <th>KidneyDisease</th>\n",
       "      <th>SkinCancer</th>\n",
       "    </tr>\n",
       "  </thead>\n",
       "  <tbody>\n",
       "    <tr>\n",
       "      <th>0</th>\n",
       "      <td>No</td>\n",
       "      <td>16.60</td>\n",
       "      <td>Yes</td>\n",
       "      <td>No</td>\n",
       "      <td>No</td>\n",
       "      <td>3.0</td>\n",
       "      <td>30.0</td>\n",
       "      <td>No</td>\n",
       "      <td>Female</td>\n",
       "      <td>55-59</td>\n",
       "      <td>White</td>\n",
       "      <td>Yes</td>\n",
       "      <td>Yes</td>\n",
       "      <td>Very good</td>\n",
       "      <td>5.0</td>\n",
       "      <td>Yes</td>\n",
       "      <td>No</td>\n",
       "      <td>Yes</td>\n",
       "    </tr>\n",
       "    <tr>\n",
       "      <th>1</th>\n",
       "      <td>No</td>\n",
       "      <td>20.34</td>\n",
       "      <td>No</td>\n",
       "      <td>No</td>\n",
       "      <td>Yes</td>\n",
       "      <td>0.0</td>\n",
       "      <td>0.0</td>\n",
       "      <td>No</td>\n",
       "      <td>Female</td>\n",
       "      <td>80 or older</td>\n",
       "      <td>White</td>\n",
       "      <td>No</td>\n",
       "      <td>Yes</td>\n",
       "      <td>Very good</td>\n",
       "      <td>7.0</td>\n",
       "      <td>No</td>\n",
       "      <td>No</td>\n",
       "      <td>No</td>\n",
       "    </tr>\n",
       "    <tr>\n",
       "      <th>2</th>\n",
       "      <td>No</td>\n",
       "      <td>26.58</td>\n",
       "      <td>Yes</td>\n",
       "      <td>No</td>\n",
       "      <td>No</td>\n",
       "      <td>20.0</td>\n",
       "      <td>30.0</td>\n",
       "      <td>No</td>\n",
       "      <td>Male</td>\n",
       "      <td>65-69</td>\n",
       "      <td>White</td>\n",
       "      <td>Yes</td>\n",
       "      <td>Yes</td>\n",
       "      <td>Fair</td>\n",
       "      <td>8.0</td>\n",
       "      <td>Yes</td>\n",
       "      <td>No</td>\n",
       "      <td>No</td>\n",
       "    </tr>\n",
       "    <tr>\n",
       "      <th>3</th>\n",
       "      <td>No</td>\n",
       "      <td>24.21</td>\n",
       "      <td>No</td>\n",
       "      <td>No</td>\n",
       "      <td>No</td>\n",
       "      <td>0.0</td>\n",
       "      <td>0.0</td>\n",
       "      <td>No</td>\n",
       "      <td>Female</td>\n",
       "      <td>75-79</td>\n",
       "      <td>White</td>\n",
       "      <td>No</td>\n",
       "      <td>No</td>\n",
       "      <td>Good</td>\n",
       "      <td>6.0</td>\n",
       "      <td>No</td>\n",
       "      <td>No</td>\n",
       "      <td>Yes</td>\n",
       "    </tr>\n",
       "    <tr>\n",
       "      <th>4</th>\n",
       "      <td>No</td>\n",
       "      <td>23.71</td>\n",
       "      <td>No</td>\n",
       "      <td>No</td>\n",
       "      <td>No</td>\n",
       "      <td>28.0</td>\n",
       "      <td>0.0</td>\n",
       "      <td>Yes</td>\n",
       "      <td>Female</td>\n",
       "      <td>40-44</td>\n",
       "      <td>White</td>\n",
       "      <td>No</td>\n",
       "      <td>Yes</td>\n",
       "      <td>Very good</td>\n",
       "      <td>8.0</td>\n",
       "      <td>No</td>\n",
       "      <td>No</td>\n",
       "      <td>No</td>\n",
       "    </tr>\n",
       "  </tbody>\n",
       "</table>\n",
       "</div>"
      ],
      "text/plain": [
       "  HeartDisease    BMI Smoking AlcoholDrinking Stroke  PhysicalHealth  \\\n",
       "0           No  16.60     Yes              No     No             3.0   \n",
       "1           No  20.34      No              No    Yes             0.0   \n",
       "2           No  26.58     Yes              No     No            20.0   \n",
       "3           No  24.21      No              No     No             0.0   \n",
       "4           No  23.71      No              No     No            28.0   \n",
       "\n",
       "   MentalHealth DiffWalking     Sex  AgeCategory   Race Diabetic  \\\n",
       "0          30.0          No  Female        55-59  White      Yes   \n",
       "1           0.0          No  Female  80 or older  White       No   \n",
       "2          30.0          No    Male        65-69  White      Yes   \n",
       "3           0.0          No  Female        75-79  White       No   \n",
       "4           0.0         Yes  Female        40-44  White       No   \n",
       "\n",
       "  PhysicalActivity  GenHealth  SleepTime Asthma KidneyDisease SkinCancer  \n",
       "0              Yes  Very good        5.0    Yes            No        Yes  \n",
       "1              Yes  Very good        7.0     No            No         No  \n",
       "2              Yes       Fair        8.0    Yes            No         No  \n",
       "3               No       Good        6.0     No            No        Yes  \n",
       "4              Yes  Very good        8.0     No            No         No  "
      ]
     },
     "execution_count": 37,
     "metadata": {},
     "output_type": "execute_result"
    }
   ],
   "source": [
    "df = pd.read_csv('/kaggle/input/personal-key-indicators-of-heart-disease/heart_2020_cleaned.csv')\n",
    "df.head()"
   ]
  },
  {
   "cell_type": "code",
   "execution_count": 38,
   "metadata": {
    "execution": {
     "iopub.execute_input": "2022-04-06T09:04:36.295795Z",
     "iopub.status.busy": "2022-04-06T09:04:36.295044Z",
     "iopub.status.idle": "2022-04-06T09:04:36.506280Z",
     "shell.execute_reply": "2022-04-06T09:04:36.505504Z",
     "shell.execute_reply.started": "2022-04-06T08:59:47.874391Z"
    },
    "papermill": {
     "duration": 0.300165,
     "end_time": "2022-04-06T09:04:36.506469",
     "exception": false,
     "start_time": "2022-04-06T09:04:36.206304",
     "status": "completed"
    },
    "tags": []
   },
   "outputs": [
    {
     "name": "stdout",
     "output_type": "stream",
     "text": [
      "(319795, 18)\n",
      "(315252, 18)\n",
      "(299334, 18)\n",
      "(270245, 18)\n",
      "(245238, 18)\n"
     ]
    }
   ],
   "source": [
    "print(df.shape)\n",
    "df = outlier(df, ['SleepTime'])\n",
    "print(df.shape)\n",
    "df = outlier_2(df, ['BMI'])\n",
    "print(df.shape)\n",
    "df = outlier_3(df, ['PhysicalHealth'])\n",
    "print(df.shape)\n",
    "df = outlier_3(df, ['MentalHealth'])\n",
    "print(df.shape)"
   ]
  },
  {
   "cell_type": "code",
   "execution_count": 39,
   "metadata": {
    "execution": {
     "iopub.execute_input": "2022-04-06T09:04:36.684578Z",
     "iopub.status.busy": "2022-04-06T09:04:36.683825Z",
     "iopub.status.idle": "2022-04-06T09:04:36.688426Z",
     "shell.execute_reply": "2022-04-06T09:04:36.687832Z",
     "shell.execute_reply.started": "2022-04-06T08:59:47.875955Z"
    },
    "papermill": {
     "duration": 0.095655,
     "end_time": "2022-04-06T09:04:36.688587",
     "exception": false,
     "start_time": "2022-04-06T09:04:36.592932",
     "status": "completed"
    },
    "tags": []
   },
   "outputs": [],
   "source": [
    "df['Physical_MentalHealth'] = df['PhysicalHealth'] + df['MentalHealth']"
   ]
  },
  {
   "cell_type": "code",
   "execution_count": 40,
   "metadata": {
    "execution": {
     "iopub.execute_input": "2022-04-06T09:04:36.878152Z",
     "iopub.status.busy": "2022-04-06T09:04:36.877439Z",
     "iopub.status.idle": "2022-04-06T09:04:37.420100Z",
     "shell.execute_reply": "2022-04-06T09:04:37.419524Z",
     "shell.execute_reply.started": "2022-04-06T08:59:47.877246Z"
    },
    "papermill": {
     "duration": 0.649135,
     "end_time": "2022-04-06T09:04:37.420296",
     "exception": false,
     "start_time": "2022-04-06T09:04:36.771161",
     "status": "completed"
    },
    "tags": []
   },
   "outputs": [],
   "source": [
    "train, test = train_test_split(df,stratify=df['HeartDisease'],test_size=.2,random_state=0)\n",
    "y_train = train['HeartDisease']\n",
    "X_train = train.drop('HeartDisease',axis=1)\n",
    "\n",
    "y_test = test['HeartDisease']\n",
    "X_test = test.drop('HeartDisease', axis=1)"
   ]
  },
  {
   "cell_type": "code",
   "execution_count": 41,
   "metadata": {
    "execution": {
     "iopub.execute_input": "2022-04-06T09:04:37.593821Z",
     "iopub.status.busy": "2022-04-06T09:04:37.592778Z",
     "iopub.status.idle": "2022-04-06T09:04:37.991700Z",
     "shell.execute_reply": "2022-04-06T09:04:37.991054Z",
     "shell.execute_reply.started": "2022-04-06T08:59:47.878566Z"
    },
    "papermill": {
     "duration": 0.486815,
     "end_time": "2022-04-06T09:04:37.991856",
     "exception": false,
     "start_time": "2022-04-06T09:04:37.505041",
     "status": "completed"
    },
    "tags": []
   },
   "outputs": [],
   "source": [
    "one_hot_train = pd.get_dummies(X_train)\n",
    "one_hot_test = pd.get_dummies(X_test)"
   ]
  },
  {
   "cell_type": "code",
   "execution_count": 42,
   "metadata": {
    "execution": {
     "iopub.execute_input": "2022-04-06T09:04:38.158909Z",
     "iopub.status.busy": "2022-04-06T09:04:38.158309Z",
     "iopub.status.idle": "2022-04-06T09:04:38.331430Z",
     "shell.execute_reply": "2022-04-06T09:04:38.330839Z",
     "shell.execute_reply.started": "2022-04-06T08:59:47.879555Z"
    },
    "papermill": {
     "duration": 0.257508,
     "end_time": "2022-04-06T09:04:38.331590",
     "exception": false,
     "start_time": "2022-04-06T09:04:38.074082",
     "status": "completed"
    },
    "tags": []
   },
   "outputs": [],
   "source": [
    "y_train.replace({'Yes':1,'No':0}, inplace=True)\n",
    "y_test.replace({'Yes':1,'No':0}, inplace=True)"
   ]
  },
  {
   "cell_type": "code",
   "execution_count": 43,
   "metadata": {
    "execution": {
     "iopub.execute_input": "2022-04-06T09:04:38.503031Z",
     "iopub.status.busy": "2022-04-06T09:04:38.502362Z",
     "iopub.status.idle": "2022-04-06T09:04:38.505699Z",
     "shell.execute_reply": "2022-04-06T09:04:38.506235Z",
     "shell.execute_reply.started": "2022-04-06T08:59:47.880716Z"
    },
    "papermill": {
     "duration": 0.093836,
     "end_time": "2022-04-06T09:04:38.506436",
     "exception": false,
     "start_time": "2022-04-06T09:04:38.412600",
     "status": "completed"
    },
    "tags": []
   },
   "outputs": [
    {
     "data": {
      "text/plain": [
       "Index(['BMI', 'PhysicalHealth', 'MentalHealth', 'SleepTime',\n",
       "       'Physical_MentalHealth', 'Smoking_No', 'Smoking_Yes',\n",
       "       'AlcoholDrinking_No', 'AlcoholDrinking_Yes', 'Stroke_No', 'Stroke_Yes',\n",
       "       'DiffWalking_No', 'DiffWalking_Yes', 'Sex_Female', 'Sex_Male',\n",
       "       'AgeCategory_18-24', 'AgeCategory_25-29', 'AgeCategory_30-34',\n",
       "       'AgeCategory_35-39', 'AgeCategory_40-44', 'AgeCategory_45-49',\n",
       "       'AgeCategory_50-54', 'AgeCategory_55-59', 'AgeCategory_60-64',\n",
       "       'AgeCategory_65-69', 'AgeCategory_70-74', 'AgeCategory_75-79',\n",
       "       'AgeCategory_80 or older', 'Race_American Indian/Alaskan Native',\n",
       "       'Race_Asian', 'Race_Black', 'Race_Hispanic', 'Race_Other', 'Race_White',\n",
       "       'Diabetic_No', 'Diabetic_No, borderline diabetes', 'Diabetic_Yes',\n",
       "       'Diabetic_Yes (during pregnancy)', 'PhysicalActivity_No',\n",
       "       'PhysicalActivity_Yes', 'GenHealth_Excellent', 'GenHealth_Fair',\n",
       "       'GenHealth_Good', 'GenHealth_Poor', 'GenHealth_Very good', 'Asthma_No',\n",
       "       'Asthma_Yes', 'KidneyDisease_No', 'KidneyDisease_Yes', 'SkinCancer_No',\n",
       "       'SkinCancer_Yes'],\n",
       "      dtype='object')"
      ]
     },
     "execution_count": 43,
     "metadata": {},
     "output_type": "execute_result"
    }
   ],
   "source": [
    "one_hot_train.columns"
   ]
  },
  {
   "cell_type": "code",
   "execution_count": 44,
   "metadata": {
    "execution": {
     "iopub.execute_input": "2022-04-06T09:04:38.682003Z",
     "iopub.status.busy": "2022-04-06T09:04:38.677046Z",
     "iopub.status.idle": "2022-04-06T09:04:38.696409Z",
     "shell.execute_reply": "2022-04-06T09:04:38.696922Z",
     "shell.execute_reply.started": "2022-04-06T08:59:47.881940Z"
    },
    "papermill": {
     "duration": 0.106919,
     "end_time": "2022-04-06T09:04:38.697117",
     "exception": false,
     "start_time": "2022-04-06T09:04:38.590198",
     "status": "completed"
    },
    "tags": []
   },
   "outputs": [],
   "source": [
    "scaler = StandardScaler()\n",
    "\n",
    "bmi = one_hot_train['BMI'].values.reshape(-1,1)\n",
    "one_hot_train['BMI'] = scaler.fit_transform(bmi)\n",
    "\n",
    "sleep = one_hot_train['SleepTime'].values.reshape(-1,1)\n",
    "one_hot_train['SleepTime'] = scaler.fit_transform(sleep)\n",
    "\n",
    "\n",
    "bmi = one_hot_test['BMI'].values.reshape(-1,1)\n",
    "one_hot_test['BMI'] = scaler.fit_transform(bmi)\n",
    "\n",
    "sleep = one_hot_test['SleepTime'].values.reshape(-1,1)\n",
    "one_hot_test['SleepTime'] = scaler.fit_transform(sleep)"
   ]
  },
  {
   "cell_type": "code",
   "execution_count": 45,
   "metadata": {
    "execution": {
     "iopub.execute_input": "2022-04-06T09:04:38.868740Z",
     "iopub.status.busy": "2022-04-06T09:04:38.864731Z",
     "iopub.status.idle": "2022-04-06T09:04:38.878436Z",
     "shell.execute_reply": "2022-04-06T09:04:38.877791Z",
     "shell.execute_reply.started": "2022-04-06T08:59:47.883292Z"
    },
    "papermill": {
     "duration": 0.099027,
     "end_time": "2022-04-06T09:04:38.878585",
     "exception": false,
     "start_time": "2022-04-06T09:04:38.779558",
     "status": "completed"
    },
    "tags": []
   },
   "outputs": [],
   "source": [
    "one_hot_train['BMI*'] = one_hot_train['BMI'] * one_hot_train['BMI']\n",
    "one_hot_train['SleepTime*'] = one_hot_train['SleepTime'] * one_hot_train['SleepTime']\n",
    "\n",
    "\n",
    "one_hot_test['BMI*'] = one_hot_test['BMI'] * one_hot_test['BMI']\n",
    "one_hot_test['SleepTime*'] = one_hot_test['SleepTime'] * one_hot_test['SleepTime']"
   ]
  },
  {
   "cell_type": "code",
   "execution_count": 46,
   "metadata": {
    "execution": {
     "iopub.execute_input": "2022-04-06T09:04:39.051881Z",
     "iopub.status.busy": "2022-04-06T09:04:39.051160Z",
     "iopub.status.idle": "2022-04-06T09:04:39.067134Z",
     "shell.execute_reply": "2022-04-06T09:04:39.066536Z",
     "shell.execute_reply.started": "2022-04-06T08:59:47.884332Z"
    },
    "papermill": {
     "duration": 0.106621,
     "end_time": "2022-04-06T09:04:39.067328",
     "exception": false,
     "start_time": "2022-04-06T09:04:38.960707",
     "status": "completed"
    },
    "tags": []
   },
   "outputs": [],
   "source": [
    "one_hot_train['PhysicalHealth_log'] = np.log1p(one_hot_train['PhysicalHealth'])\n",
    "one_hot_train['MentalHealth_log'] = np.log1p(one_hot_train['MentalHealth'])\n",
    "\n",
    "\n",
    "one_hot_test['PhysicalHealth_log'] = np.log1p(one_hot_test['PhysicalHealth'])\n",
    "one_hot_test['MentalHealth_log'] = np.log1p(one_hot_test['MentalHealth'])"
   ]
  },
  {
   "cell_type": "code",
   "execution_count": 47,
   "metadata": {
    "execution": {
     "iopub.execute_input": "2022-04-06T09:04:39.248424Z",
     "iopub.status.busy": "2022-04-06T09:04:39.247659Z",
     "iopub.status.idle": "2022-04-06T09:04:39.258094Z",
     "shell.execute_reply": "2022-04-06T09:04:39.258697Z",
     "shell.execute_reply.started": "2022-04-06T08:59:47.885597Z"
    },
    "papermill": {
     "duration": 0.102155,
     "end_time": "2022-04-06T09:04:39.258930",
     "exception": false,
     "start_time": "2022-04-06T09:04:39.156775",
     "status": "completed"
    },
    "tags": []
   },
   "outputs": [],
   "source": [
    "one_hot_train['PhysicalHealth_log*'] = one_hot_train['PhysicalHealth_log'] * one_hot_train['PhysicalHealth_log']\n",
    "one_hot_train['MentalHealth_log*'] = one_hot_train['MentalHealth_log'] * one_hot_train['MentalHealth_log']\n",
    "\n",
    "\n",
    "one_hot_test['PhysicalHealth_log*'] = one_hot_test['PhysicalHealth_log'] * one_hot_test['PhysicalHealth_log']\n",
    "one_hot_test['MentalHealth_log*'] = one_hot_test['MentalHealth_log'] * one_hot_test['MentalHealth_log']"
   ]
  },
  {
   "cell_type": "code",
   "execution_count": 48,
   "metadata": {
    "execution": {
     "iopub.execute_input": "2022-04-06T09:04:39.438600Z",
     "iopub.status.busy": "2022-04-06T09:04:39.437868Z",
     "iopub.status.idle": "2022-04-06T09:04:39.497041Z",
     "shell.execute_reply": "2022-04-06T09:04:39.497559Z",
     "shell.execute_reply.started": "2022-04-06T08:59:47.886857Z"
    },
    "papermill": {
     "duration": 0.150968,
     "end_time": "2022-04-06T09:04:39.497760",
     "exception": false,
     "start_time": "2022-04-06T09:04:39.346792",
     "status": "completed"
    },
    "tags": []
   },
   "outputs": [
    {
     "data": {
      "text/html": [
       "<div>\n",
       "<style scoped>\n",
       "    .dataframe tbody tr th:only-of-type {\n",
       "        vertical-align: middle;\n",
       "    }\n",
       "\n",
       "    .dataframe tbody tr th {\n",
       "        vertical-align: top;\n",
       "    }\n",
       "\n",
       "    .dataframe thead th {\n",
       "        text-align: right;\n",
       "    }\n",
       "</style>\n",
       "<table border=\"1\" class=\"dataframe\">\n",
       "  <thead>\n",
       "    <tr style=\"text-align: right;\">\n",
       "      <th></th>\n",
       "      <th>BMI</th>\n",
       "      <th>SleepTime</th>\n",
       "      <th>Physical_MentalHealth</th>\n",
       "      <th>Smoking_No</th>\n",
       "      <th>Smoking_Yes</th>\n",
       "      <th>AlcoholDrinking_No</th>\n",
       "      <th>AlcoholDrinking_Yes</th>\n",
       "      <th>Stroke_No</th>\n",
       "      <th>Stroke_Yes</th>\n",
       "      <th>DiffWalking_No</th>\n",
       "      <th>...</th>\n",
       "      <th>KidneyDisease_No</th>\n",
       "      <th>KidneyDisease_Yes</th>\n",
       "      <th>SkinCancer_No</th>\n",
       "      <th>SkinCancer_Yes</th>\n",
       "      <th>BMI*</th>\n",
       "      <th>SleepTime*</th>\n",
       "      <th>PhysicalHealth_log</th>\n",
       "      <th>MentalHealth_log</th>\n",
       "      <th>PhysicalHealth_log*</th>\n",
       "      <th>MentalHealth_log*</th>\n",
       "    </tr>\n",
       "  </thead>\n",
       "  <tbody>\n",
       "    <tr>\n",
       "      <th>154391</th>\n",
       "      <td>0.352378</td>\n",
       "      <td>-0.131735</td>\n",
       "      <td>2.0</td>\n",
       "      <td>0</td>\n",
       "      <td>1</td>\n",
       "      <td>1</td>\n",
       "      <td>0</td>\n",
       "      <td>1</td>\n",
       "      <td>0</td>\n",
       "      <td>1</td>\n",
       "      <td>...</td>\n",
       "      <td>1</td>\n",
       "      <td>0</td>\n",
       "      <td>1</td>\n",
       "      <td>0</td>\n",
       "      <td>0.124170</td>\n",
       "      <td>0.017354</td>\n",
       "      <td>0.000000</td>\n",
       "      <td>1.098612</td>\n",
       "      <td>0.000000</td>\n",
       "      <td>1.206949</td>\n",
       "    </tr>\n",
       "    <tr>\n",
       "      <th>175186</th>\n",
       "      <td>-0.576994</td>\n",
       "      <td>0.751135</td>\n",
       "      <td>0.0</td>\n",
       "      <td>1</td>\n",
       "      <td>0</td>\n",
       "      <td>1</td>\n",
       "      <td>0</td>\n",
       "      <td>1</td>\n",
       "      <td>0</td>\n",
       "      <td>1</td>\n",
       "      <td>...</td>\n",
       "      <td>1</td>\n",
       "      <td>0</td>\n",
       "      <td>0</td>\n",
       "      <td>1</td>\n",
       "      <td>0.332922</td>\n",
       "      <td>0.564204</td>\n",
       "      <td>0.000000</td>\n",
       "      <td>0.000000</td>\n",
       "      <td>0.000000</td>\n",
       "      <td>0.000000</td>\n",
       "    </tr>\n",
       "    <tr>\n",
       "      <th>4690</th>\n",
       "      <td>2.273637</td>\n",
       "      <td>0.751135</td>\n",
       "      <td>2.0</td>\n",
       "      <td>1</td>\n",
       "      <td>0</td>\n",
       "      <td>1</td>\n",
       "      <td>0</td>\n",
       "      <td>1</td>\n",
       "      <td>0</td>\n",
       "      <td>1</td>\n",
       "      <td>...</td>\n",
       "      <td>1</td>\n",
       "      <td>0</td>\n",
       "      <td>1</td>\n",
       "      <td>0</td>\n",
       "      <td>5.169424</td>\n",
       "      <td>0.564204</td>\n",
       "      <td>1.098612</td>\n",
       "      <td>0.000000</td>\n",
       "      <td>1.206949</td>\n",
       "      <td>0.000000</td>\n",
       "    </tr>\n",
       "    <tr>\n",
       "      <th>136003</th>\n",
       "      <td>-0.618670</td>\n",
       "      <td>0.751135</td>\n",
       "      <td>0.0</td>\n",
       "      <td>1</td>\n",
       "      <td>0</td>\n",
       "      <td>1</td>\n",
       "      <td>0</td>\n",
       "      <td>1</td>\n",
       "      <td>0</td>\n",
       "      <td>1</td>\n",
       "      <td>...</td>\n",
       "      <td>1</td>\n",
       "      <td>0</td>\n",
       "      <td>1</td>\n",
       "      <td>0</td>\n",
       "      <td>0.382753</td>\n",
       "      <td>0.564204</td>\n",
       "      <td>0.000000</td>\n",
       "      <td>0.000000</td>\n",
       "      <td>0.000000</td>\n",
       "      <td>0.000000</td>\n",
       "    </tr>\n",
       "    <tr>\n",
       "      <th>135251</th>\n",
       "      <td>0.606601</td>\n",
       "      <td>-0.131735</td>\n",
       "      <td>2.0</td>\n",
       "      <td>1</td>\n",
       "      <td>0</td>\n",
       "      <td>1</td>\n",
       "      <td>0</td>\n",
       "      <td>1</td>\n",
       "      <td>0</td>\n",
       "      <td>1</td>\n",
       "      <td>...</td>\n",
       "      <td>1</td>\n",
       "      <td>0</td>\n",
       "      <td>1</td>\n",
       "      <td>0</td>\n",
       "      <td>0.367965</td>\n",
       "      <td>0.017354</td>\n",
       "      <td>0.000000</td>\n",
       "      <td>1.098612</td>\n",
       "      <td>0.000000</td>\n",
       "      <td>1.206949</td>\n",
       "    </tr>\n",
       "  </tbody>\n",
       "</table>\n",
       "<p>5 rows × 55 columns</p>\n",
       "</div>"
      ],
      "text/plain": [
       "             BMI  SleepTime  Physical_MentalHealth  Smoking_No  Smoking_Yes  \\\n",
       "154391  0.352378  -0.131735                    2.0           0            1   \n",
       "175186 -0.576994   0.751135                    0.0           1            0   \n",
       "4690    2.273637   0.751135                    2.0           1            0   \n",
       "136003 -0.618670   0.751135                    0.0           1            0   \n",
       "135251  0.606601  -0.131735                    2.0           1            0   \n",
       "\n",
       "        AlcoholDrinking_No  AlcoholDrinking_Yes  Stroke_No  Stroke_Yes  \\\n",
       "154391                   1                    0          1           0   \n",
       "175186                   1                    0          1           0   \n",
       "4690                     1                    0          1           0   \n",
       "136003                   1                    0          1           0   \n",
       "135251                   1                    0          1           0   \n",
       "\n",
       "        DiffWalking_No  ...  KidneyDisease_No  KidneyDisease_Yes  \\\n",
       "154391               1  ...                 1                  0   \n",
       "175186               1  ...                 1                  0   \n",
       "4690                 1  ...                 1                  0   \n",
       "136003               1  ...                 1                  0   \n",
       "135251               1  ...                 1                  0   \n",
       "\n",
       "        SkinCancer_No  SkinCancer_Yes      BMI*  SleepTime*  \\\n",
       "154391              1               0  0.124170    0.017354   \n",
       "175186              0               1  0.332922    0.564204   \n",
       "4690                1               0  5.169424    0.564204   \n",
       "136003              1               0  0.382753    0.564204   \n",
       "135251              1               0  0.367965    0.017354   \n",
       "\n",
       "        PhysicalHealth_log  MentalHealth_log  PhysicalHealth_log*  \\\n",
       "154391            0.000000          1.098612             0.000000   \n",
       "175186            0.000000          0.000000             0.000000   \n",
       "4690              1.098612          0.000000             1.206949   \n",
       "136003            0.000000          0.000000             0.000000   \n",
       "135251            0.000000          1.098612             0.000000   \n",
       "\n",
       "        MentalHealth_log*  \n",
       "154391           1.206949  \n",
       "175186           0.000000  \n",
       "4690             0.000000  \n",
       "136003           0.000000  \n",
       "135251           1.206949  \n",
       "\n",
       "[5 rows x 55 columns]"
      ]
     },
     "execution_count": 48,
     "metadata": {},
     "output_type": "execute_result"
    }
   ],
   "source": [
    "one_hot_train.drop(['PhysicalHealth','MentalHealth'],axis=1,inplace=True)\n",
    "\n",
    "\n",
    "one_hot_test.drop(['PhysicalHealth','MentalHealth'],axis=1,inplace=True)\n",
    "\n",
    "\n",
    "one_hot_train.head()"
   ]
  },
  {
   "cell_type": "code",
   "execution_count": 49,
   "metadata": {
    "execution": {
     "iopub.execute_input": "2022-04-06T09:04:39.679079Z",
     "iopub.status.busy": "2022-04-06T09:04:39.678352Z",
     "iopub.status.idle": "2022-04-06T09:04:41.179553Z",
     "shell.execute_reply": "2022-04-06T09:04:41.178980Z",
     "shell.execute_reply.started": "2022-04-06T08:59:47.888239Z"
    },
    "papermill": {
     "duration": 1.596736,
     "end_time": "2022-04-06T09:04:41.179718",
     "exception": false,
     "start_time": "2022-04-06T09:04:39.582982",
     "status": "completed"
    },
    "tags": []
   },
   "outputs": [
    {
     "name": "stderr",
     "output_type": "stream",
     "text": [
      "2022-04-06 09:04:41.013107: I tensorflow/core/common_runtime/process_util.cc:146] Creating new thread pool with default inter op setting: 2. Tune using inter_op_parallelism_threads for best performance.\n"
     ]
    }
   ],
   "source": [
    "model = tf.keras.Sequential()\n",
    "model.add(tf.keras.layers.Dense(256, activation='relu', input_shape=(one_hot_train.shape[1],)))\n",
    "model.add(tf.keras.layers.Dropout(0.2))\n",
    "model.add(tf.keras.layers.Dense(256, activation='relu'))\n",
    "model.add(tf.keras.layers.Dropout(0.2))\n",
    "model.add(tf.keras.layers.Dense(256, activation='relu'))\n",
    "model.add(tf.keras.layers.Dropout(0.2))\n",
    "model.add(tf.keras.layers.Dense(256, activation='relu'))\n",
    "model.add(tf.keras.layers.Dropout(0.2))\n",
    "model.add(tf.keras.layers.Dense(64, activation='relu'))\n",
    "model.add(tf.keras.layers.Dense(1, activation='sigmoid'))\n",
    "\n",
    "model.compile(loss='binary_crossentropy', optimizer='adam', metrics=['accuracy'])"
   ]
  },
  {
   "cell_type": "code",
   "execution_count": 50,
   "metadata": {
    "execution": {
     "iopub.execute_input": "2022-04-06T09:04:41.352837Z",
     "iopub.status.busy": "2022-04-06T09:04:41.349802Z",
     "iopub.status.idle": "2022-04-06T09:07:41.818980Z",
     "shell.execute_reply": "2022-04-06T09:07:41.819582Z",
     "shell.execute_reply.started": "2022-04-06T08:59:47.889398Z"
    },
    "papermill": {
     "duration": 180.556687,
     "end_time": "2022-04-06T09:07:41.819831",
     "exception": false,
     "start_time": "2022-04-06T09:04:41.263144",
     "status": "completed"
    },
    "tags": []
   },
   "outputs": [
    {
     "name": "stderr",
     "output_type": "stream",
     "text": [
      "2022-04-06 09:04:41.751083: I tensorflow/compiler/mlir/mlir_graph_optimization_pass.cc:185] None of the MLIR Optimization Passes are enabled (registered 2)\n"
     ]
    },
    {
     "name": "stdout",
     "output_type": "stream",
     "text": [
      "Epoch 1/20\n",
      "384/384 [==============================] - 11s 25ms/step - loss: 0.2146 - accuracy: 0.9283 - val_loss: 0.2017 - val_accuracy: 0.9300\n",
      "Epoch 2/20\n",
      "384/384 [==============================] - 9s 23ms/step - loss: 0.2029 - accuracy: 0.9301 - val_loss: 0.2001 - val_accuracy: 0.9304\n",
      "Epoch 3/20\n",
      "384/384 [==============================] - 9s 23ms/step - loss: 0.2024 - accuracy: 0.9303 - val_loss: 0.2026 - val_accuracy: 0.9304\n",
      "Epoch 4/20\n",
      "384/384 [==============================] - 9s 23ms/step - loss: 0.2012 - accuracy: 0.9303 - val_loss: 0.2005 - val_accuracy: 0.9298\n",
      "Epoch 5/20\n",
      "384/384 [==============================] - 9s 24ms/step - loss: 0.2004 - accuracy: 0.9304 - val_loss: 0.2004 - val_accuracy: 0.9300\n",
      "Epoch 6/20\n",
      "384/384 [==============================] - 9s 22ms/step - loss: 0.1996 - accuracy: 0.9305 - val_loss: 0.1995 - val_accuracy: 0.9301\n",
      "Epoch 7/20\n",
      "384/384 [==============================] - 9s 23ms/step - loss: 0.1997 - accuracy: 0.9304 - val_loss: 0.2003 - val_accuracy: 0.9301\n",
      "Epoch 8/20\n",
      "384/384 [==============================] - 9s 25ms/step - loss: 0.1987 - accuracy: 0.9305 - val_loss: 0.2001 - val_accuracy: 0.9299\n",
      "Epoch 9/20\n",
      "384/384 [==============================] - 9s 23ms/step - loss: 0.1989 - accuracy: 0.9303 - val_loss: 0.2000 - val_accuracy: 0.9302\n",
      "Epoch 10/20\n",
      "384/384 [==============================] - 9s 23ms/step - loss: 0.1979 - accuracy: 0.9306 - val_loss: 0.2002 - val_accuracy: 0.9300\n",
      "Epoch 11/20\n",
      "384/384 [==============================] - 9s 23ms/step - loss: 0.1979 - accuracy: 0.9306 - val_loss: 0.2021 - val_accuracy: 0.9299\n",
      "Epoch 12/20\n",
      "384/384 [==============================] - 9s 25ms/step - loss: 0.1974 - accuracy: 0.9307 - val_loss: 0.2004 - val_accuracy: 0.9300\n",
      "Epoch 13/20\n",
      "384/384 [==============================] - 9s 23ms/step - loss: 0.1967 - accuracy: 0.9311 - val_loss: 0.2005 - val_accuracy: 0.9300\n",
      "Epoch 14/20\n",
      "384/384 [==============================] - 9s 23ms/step - loss: 0.1963 - accuracy: 0.9310 - val_loss: 0.2009 - val_accuracy: 0.9302\n",
      "Epoch 15/20\n",
      "384/384 [==============================] - 9s 24ms/step - loss: 0.1956 - accuracy: 0.9311 - val_loss: 0.2012 - val_accuracy: 0.9301\n",
      "Epoch 16/20\n",
      "384/384 [==============================] - 9s 22ms/step - loss: 0.1951 - accuracy: 0.9310 - val_loss: 0.2021 - val_accuracy: 0.9299\n",
      "Epoch 17/20\n",
      "384/384 [==============================] - 9s 22ms/step - loss: 0.1944 - accuracy: 0.9313 - val_loss: 0.2024 - val_accuracy: 0.9300\n",
      "Epoch 18/20\n",
      "384/384 [==============================] - 9s 23ms/step - loss: 0.1941 - accuracy: 0.9313 - val_loss: 0.2021 - val_accuracy: 0.9293\n",
      "Epoch 19/20\n",
      "384/384 [==============================] - 9s 24ms/step - loss: 0.1932 - accuracy: 0.9315 - val_loss: 0.2044 - val_accuracy: 0.9284\n",
      "Epoch 20/20\n",
      "384/384 [==============================] - 9s 22ms/step - loss: 0.1930 - accuracy: 0.9313 - val_loss: 0.2027 - val_accuracy: 0.9294\n"
     ]
    }
   ],
   "source": [
    "history = model.fit(one_hot_train, y_train, batch_size=512, epochs=20, verbose=1, validation_data=(one_hot_test, y_test))"
   ]
  }
 ],
 "metadata": {
  "kernelspec": {
   "display_name": "Python 3",
   "language": "python",
   "name": "python3"
  },
  "language_info": {
   "codemirror_mode": {
    "name": "ipython",
    "version": 3
   },
   "file_extension": ".py",
   "mimetype": "text/x-python",
   "name": "python",
   "nbconvert_exporter": "python",
   "pygments_lexer": "ipython3",
   "version": "3.8.5"
  },
  "papermill": {
   "default_parameters": {},
   "duration": 465.423001,
   "end_time": "2022-04-06T09:07:46.263350",
   "environment_variables": {},
   "exception": null,
   "input_path": "__notebook__.ipynb",
   "output_path": "__notebook__.ipynb",
   "parameters": {},
   "start_time": "2022-04-06T09:00:00.840349",
   "version": "2.3.3"
  }
 },
 "nbformat": 4,
 "nbformat_minor": 5
}
