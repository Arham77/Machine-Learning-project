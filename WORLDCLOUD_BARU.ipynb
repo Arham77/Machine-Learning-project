{
 "cells": [
  {
   "cell_type": "code",
   "execution_count": 8,
   "metadata": {},
   "outputs": [
    {
     "data": {
      "text/plain": [
       "<wordcloud.wordcloud.WordCloud at 0x1370cd4d520>"
      ]
     },
     "execution_count": 8,
     "metadata": {},
     "output_type": "execute_result"
    }
   ],
   "source": [
    "#CARA LAIN\n",
    "from wordcloud import WordCloud,STOPWORDS\n",
    "import matplotlib.pyplot as plt\n",
    "import sys, os\n",
    "import string\n",
    "import pandas as pd\n",
    "os.chdir(sys.path[0])\n",
    "with open('REV_Negatif.txt', mode='r', encoding='utf-8') as f:\n",
    "    text = f.read()\n",
    "    words = text.split()\n",
    "    table = str.maketrans(\"\", \"\", string.punctuation)\n",
    "    stripped = [w.translate(table) for w in words]\n",
    "    assembled = \" \".join(stripped).replace(\"saya\", \"\").replace(\"dan\", \"\").replace(\"di\", \"\").replace(\"nya\", \"\").replace(\"yg\", \"\").replace(\"aku\", \"\").replace(\"maxim\", \"\").replace(\"yang\", \"\").replace(\"tidak\", \"\").replace(\"driver\", \"\").replace(\"aplikasi\", \"\")\n",
    "    \n",
    "wc = WordCloud(\n",
    "        background_color='white',\n",
    "        contour_color='steelblue',\n",
    "        height = 400,\n",
    "        width = 600\n",
    ")\n",
    "\n",
    "wc.generate(assembled)\n",
    "wc.to_file('Negatif2.png')\n"
   ]
  },
  {
   "cell_type": "code",
   "execution_count": 15,
   "metadata": {},
   "outputs": [
    {
     "data": {
      "text/plain": [
       "<wordcloud.wordcloud.WordCloud at 0x2163a035fa0>"
      ]
     },
     "execution_count": 15,
     "metadata": {},
     "output_type": "execute_result"
    }
   ],
   "source": [
    "from wordcloud import WordCloud,STOPWORDS\n",
    "import matplotlib.pyplot as plt\n",
    "import sys, os\n",
    "import string\n",
    "import pandas as pd\n",
    "os.chdir(sys.path[0])\n",
    "\n",
    "#read text\n",
    "text = open('word_count.txt', mode='r', encoding='utf-8').read()\n",
    "stopwords = STOPWORDS\n",
    "\n",
    "wc = WordCloud(\n",
    "        background_color='white',\n",
    "        stopwords=stopwords,\n",
    "        height = 600,\n",
    "        width = 400\n",
    ")\n",
    "\n",
    "wc.generate(text)\n",
    "wc.to_file('worldcloud.png')"
   ]
  },
  {
   "cell_type": "code",
   "execution_count": null,
   "metadata": {},
   "outputs": [],
   "source": []
  }
 ],
 "metadata": {
  "kernelspec": {
   "display_name": "Python 3",
   "language": "python",
   "name": "python3"
  },
  "language_info": {
   "codemirror_mode": {
    "name": "ipython",
    "version": 3
   },
   "file_extension": ".py",
   "mimetype": "text/x-python",
   "name": "python",
   "nbconvert_exporter": "python",
   "pygments_lexer": "ipython3",
   "version": "3.8.5"
  }
 },
 "nbformat": 4,
 "nbformat_minor": 4
}
